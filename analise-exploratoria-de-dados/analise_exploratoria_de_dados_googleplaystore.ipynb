{
 "cells": [
  {
   "cell_type": "markdown",
   "id": "standing-operations",
   "metadata": {},
   "source": [
    "**INTL6: Inteligência Artificial (2021.2)** <br/>\n",
    "IFSP Campinas\n",
    "\n",
    "Prof: Samuel Martins <br/><br/>\n",
    "\n",
    "<a rel=\"license\" href=\"http://creativecommons.org/licenses/by-nc-sa/4.0/\"><img alt=\"Creative Commons License\" style=\"border-width:0\" src=\"https://i.creativecommons.org/l/by-nc-sa/4.0/88x31.png\" /></a><br />This work is licensed under a <a rel=\"license\" href=\"http://creativecommons.org/licenses/by-nc-sa/4.0/\">Creative Commons Attribution-NonCommercial-ShareAlike 4.0 International License</a>."
   ]
  },
  {
   "cell_type": "code",
   "execution_count": 1,
   "id": "radical-intensity",
   "metadata": {},
   "outputs": [],
   "source": [
    "# pacotes usados neste notebook\n",
    "import pandas as pd\n",
    "import seaborn as sns\n",
    "import matplotlib.pyplot as plt\n",
    "import numpy as np\n",
    "\n",
    "# estilos padrão para os plots/visualizações\n",
    "sns.set_theme(style=\"whitegrid\")\n",
    "plt.rcParams['figure.figsize'] = (10, 6)\n",
    "plt.rcParams['axes.labelsize'] = 14\n",
    "plt.rcParams['xtick.labelsize'] = 14\n",
    "plt.rcParams['xtick.labelsize'] = 14\n",
    "plt.rcParams['ytick.labelsize'] = 14"
   ]
  },
  {
   "cell_type": "markdown",
   "id": "pending-canadian",
   "metadata": {},
   "source": [
    "<h1>Especificação</h1><hr/>"
   ]
  },
  {
   "cell_type": "markdown",
   "id": "supported-racing",
   "metadata": {},
   "source": [
    "Neste notebook, realizaremos uma **Análise Exploratória de Dados** em um conjunto de dados sobre aplicativos da Google Play Store. <br/>\n",
    "Nosso objetivo é responder algumas perguntas e hipóteses sobre o dataset. Para isso, analisaremos as variáveis do dataset em diferentes cenários, utilizando um ferramental que envolve a manipulação de dados, estatísticas descritivas e visualizações. <br/>\n",
    "Focaremos mais nas estratégias de como responder às perguntas do que necessariamente no código para chegar nisso. Deixaremos a cargo de vocês o entendimento do ferramental. <br/>\n",
    "\n",
    "Como suporte para visualização:\n",
    "- https://datavizcatalogue.com/\n",
    "- https://www.python-graph-gallery.com/"
   ]
  },
  {
   "cell_type": "markdown",
   "id": "happy-wallpaper",
   "metadata": {},
   "source": [
    "<h2>1. Dataset</h2>\n",
    "<hr/>"
   ]
  },
  {
   "cell_type": "markdown",
   "id": "concrete-genre",
   "metadata": {},
   "source": [
    "**Dataset**: Google Play Store Apps: https://www.kaggle.com/lava18/google-play-store-apps <br/>\n",
    "\n",
    "Este dataset contém dados sobre aplicativos da Google Play Store (2010 até agosto de 2018). <br/>\n",
    "Cada *observação (registro/linha)* consiste de informações de um app, tais como categoria, avaliação, tamanho, entre outros. <br/>\n",
    "Cada app possui uma avaliação (coluna 'Rating') que consiste da nota média de um conjunto de avaliações (coluna 'Reviews')."
   ]
  },
  {
   "cell_type": "markdown",
   "id": "bearing-switch",
   "metadata": {},
   "source": [
    "### 1.1 Importando o Dataset"
   ]
  },
  {
   "cell_type": "code",
   "execution_count": 3,
   "id": "flexible-practice",
   "metadata": {},
   "outputs": [],
   "source": [
    "df = pd.read_csv('./datasets/googleplaystore_preprocessado.csv')"
   ]
  },
  {
   "cell_type": "code",
   "execution_count": 4,
   "id": "modified-settlement",
   "metadata": {},
   "outputs": [
    {
     "data": {
      "text/html": [
       "<div>\n",
       "<style scoped>\n",
       "    .dataframe tbody tr th:only-of-type {\n",
       "        vertical-align: middle;\n",
       "    }\n",
       "\n",
       "    .dataframe tbody tr th {\n",
       "        vertical-align: top;\n",
       "    }\n",
       "\n",
       "    .dataframe thead th {\n",
       "        text-align: right;\n",
       "    }\n",
       "</style>\n",
       "<table border=\"1\" class=\"dataframe\">\n",
       "  <thead>\n",
       "    <tr style=\"text-align: right;\">\n",
       "      <th></th>\n",
       "      <th>App</th>\n",
       "      <th>Category</th>\n",
       "      <th>Rating</th>\n",
       "      <th>Reviews</th>\n",
       "      <th>Size</th>\n",
       "      <th>Installs</th>\n",
       "      <th>Type</th>\n",
       "      <th>Price</th>\n",
       "      <th>Content Rating</th>\n",
       "      <th>Genres</th>\n",
       "      <th>Last Updated</th>\n",
       "      <th>Current Ver</th>\n",
       "      <th>Android Ver</th>\n",
       "    </tr>\n",
       "  </thead>\n",
       "  <tbody>\n",
       "    <tr>\n",
       "      <th>0</th>\n",
       "      <td>Photo Editor &amp; Candy Camera &amp; Grid &amp; ScrapBook</td>\n",
       "      <td>ART_AND_DESIGN</td>\n",
       "      <td>4.1</td>\n",
       "      <td>159</td>\n",
       "      <td>19000000.0</td>\n",
       "      <td>10000</td>\n",
       "      <td>Free</td>\n",
       "      <td>0.0</td>\n",
       "      <td>Everyone</td>\n",
       "      <td>Art &amp; Design</td>\n",
       "      <td>2018-01-07</td>\n",
       "      <td>1.0.0</td>\n",
       "      <td>4.0.3 and up</td>\n",
       "    </tr>\n",
       "    <tr>\n",
       "      <th>1</th>\n",
       "      <td>Coloring book moana</td>\n",
       "      <td>ART_AND_DESIGN</td>\n",
       "      <td>3.9</td>\n",
       "      <td>967</td>\n",
       "      <td>14000000.0</td>\n",
       "      <td>500000</td>\n",
       "      <td>Free</td>\n",
       "      <td>0.0</td>\n",
       "      <td>Everyone</td>\n",
       "      <td>Art &amp; Design;Pretend Play</td>\n",
       "      <td>2018-01-15</td>\n",
       "      <td>2.0.0</td>\n",
       "      <td>4.0.3 and up</td>\n",
       "    </tr>\n",
       "    <tr>\n",
       "      <th>2</th>\n",
       "      <td>U Launcher Lite – FREE Live Cool Themes, Hide ...</td>\n",
       "      <td>ART_AND_DESIGN</td>\n",
       "      <td>4.7</td>\n",
       "      <td>87510</td>\n",
       "      <td>8700000.0</td>\n",
       "      <td>5000000</td>\n",
       "      <td>Free</td>\n",
       "      <td>0.0</td>\n",
       "      <td>Everyone</td>\n",
       "      <td>Art &amp; Design</td>\n",
       "      <td>2018-08-01</td>\n",
       "      <td>1.2.4</td>\n",
       "      <td>4.0.3 and up</td>\n",
       "    </tr>\n",
       "    <tr>\n",
       "      <th>3</th>\n",
       "      <td>Sketch - Draw &amp; Paint</td>\n",
       "      <td>ART_AND_DESIGN</td>\n",
       "      <td>4.5</td>\n",
       "      <td>215644</td>\n",
       "      <td>25000000.0</td>\n",
       "      <td>50000000</td>\n",
       "      <td>Free</td>\n",
       "      <td>0.0</td>\n",
       "      <td>Teen</td>\n",
       "      <td>Art &amp; Design</td>\n",
       "      <td>2018-06-08</td>\n",
       "      <td>1.0.0</td>\n",
       "      <td>4.2 and up</td>\n",
       "    </tr>\n",
       "    <tr>\n",
       "      <th>4</th>\n",
       "      <td>Pixel Draw - Number Art Coloring Book</td>\n",
       "      <td>ART_AND_DESIGN</td>\n",
       "      <td>4.3</td>\n",
       "      <td>967</td>\n",
       "      <td>2800000.0</td>\n",
       "      <td>100000</td>\n",
       "      <td>Free</td>\n",
       "      <td>0.0</td>\n",
       "      <td>Everyone</td>\n",
       "      <td>Art &amp; Design;Creativity</td>\n",
       "      <td>2018-06-20</td>\n",
       "      <td>1.1</td>\n",
       "      <td>4.4 and up</td>\n",
       "    </tr>\n",
       "  </tbody>\n",
       "</table>\n",
       "</div>"
      ],
      "text/plain": [
       "                                                 App        Category  Rating  \\\n",
       "0     Photo Editor & Candy Camera & Grid & ScrapBook  ART_AND_DESIGN     4.1   \n",
       "1                                Coloring book moana  ART_AND_DESIGN     3.9   \n",
       "2  U Launcher Lite – FREE Live Cool Themes, Hide ...  ART_AND_DESIGN     4.7   \n",
       "3                              Sketch - Draw & Paint  ART_AND_DESIGN     4.5   \n",
       "4              Pixel Draw - Number Art Coloring Book  ART_AND_DESIGN     4.3   \n",
       "\n",
       "   Reviews        Size  Installs  Type  Price Content Rating  \\\n",
       "0      159  19000000.0     10000  Free    0.0       Everyone   \n",
       "1      967  14000000.0    500000  Free    0.0       Everyone   \n",
       "2    87510   8700000.0   5000000  Free    0.0       Everyone   \n",
       "3   215644  25000000.0  50000000  Free    0.0           Teen   \n",
       "4      967   2800000.0    100000  Free    0.0       Everyone   \n",
       "\n",
       "                      Genres Last Updated Current Ver   Android Ver  \n",
       "0               Art & Design   2018-01-07       1.0.0  4.0.3 and up  \n",
       "1  Art & Design;Pretend Play   2018-01-15       2.0.0  4.0.3 and up  \n",
       "2               Art & Design   2018-08-01       1.2.4  4.0.3 and up  \n",
       "3               Art & Design   2018-06-08       1.0.0    4.2 and up  \n",
       "4    Art & Design;Creativity   2018-06-20         1.1    4.4 and up  "
      ]
     },
     "execution_count": 4,
     "metadata": {},
     "output_type": "execute_result"
    }
   ],
   "source": [
    "df.head()"
   ]
  },
  {
   "cell_type": "markdown",
   "id": "interesting-postage",
   "metadata": {},
   "source": [
    "### 1.2 Informações básicas"
   ]
  },
  {
   "cell_type": "code",
   "execution_count": 5,
   "id": "sitting-despite",
   "metadata": {},
   "outputs": [
    {
     "name": "stdout",
     "output_type": "stream",
     "text": [
      "<class 'pandas.core.frame.DataFrame'>\n",
      "RangeIndex: 8194 entries, 0 to 8193\n",
      "Data columns (total 13 columns):\n",
      " #   Column          Non-Null Count  Dtype  \n",
      "---  ------          --------------  -----  \n",
      " 0   App             8194 non-null   object \n",
      " 1   Category        8194 non-null   object \n",
      " 2   Rating          8194 non-null   float64\n",
      " 3   Reviews         8194 non-null   int64  \n",
      " 4   Size            8194 non-null   float64\n",
      " 5   Installs        8194 non-null   int64  \n",
      " 6   Type            8194 non-null   object \n",
      " 7   Price           8194 non-null   float64\n",
      " 8   Content Rating  8194 non-null   object \n",
      " 9   Genres          8194 non-null   object \n",
      " 10  Last Updated    8194 non-null   object \n",
      " 11  Current Ver     8194 non-null   object \n",
      " 12  Android Ver     8194 non-null   object \n",
      "dtypes: float64(3), int64(2), object(8)\n",
      "memory usage: 832.3+ KB\n"
     ]
    }
   ],
   "source": [
    "df.info()"
   ]
  },
  {
   "cell_type": "markdown",
   "id": "indian-delta",
   "metadata": {},
   "source": [
    "<br/>\n",
    "\n",
    "O dataset pré-processado possui **8194** registros/observações/linhas e **13** atributos/variáveis/colunas.\n",
    "Nenhum atributo possui valores NaN."
   ]
  },
  {
   "cell_type": "markdown",
   "id": "rural-orleans",
   "metadata": {},
   "source": [
    "<h2>2. Análise Exploratória de Dados</h2>\n",
    "<hr/>"
   ]
  },
  {
   "cell_type": "markdown",
   "id": "divided-playing",
   "metadata": {},
   "source": [
    "**Estatísticas descritivas básicas**"
   ]
  },
  {
   "cell_type": "code",
   "execution_count": 6,
   "id": "close-livestock",
   "metadata": {},
   "outputs": [
    {
     "data": {
      "text/html": [
       "<div>\n",
       "<style scoped>\n",
       "    .dataframe tbody tr th:only-of-type {\n",
       "        vertical-align: middle;\n",
       "    }\n",
       "\n",
       "    .dataframe tbody tr th {\n",
       "        vertical-align: top;\n",
       "    }\n",
       "\n",
       "    .dataframe thead th {\n",
       "        text-align: right;\n",
       "    }\n",
       "</style>\n",
       "<table border=\"1\" class=\"dataframe\">\n",
       "  <thead>\n",
       "    <tr style=\"text-align: right;\">\n",
       "      <th></th>\n",
       "      <th>Rating</th>\n",
       "      <th>Reviews</th>\n",
       "      <th>Size</th>\n",
       "      <th>Installs</th>\n",
       "      <th>Price</th>\n",
       "    </tr>\n",
       "  </thead>\n",
       "  <tbody>\n",
       "    <tr>\n",
       "      <th>count</th>\n",
       "      <td>8194.000000</td>\n",
       "      <td>8.194000e+03</td>\n",
       "      <td>8.194000e+03</td>\n",
       "      <td>8.194000e+03</td>\n",
       "      <td>8194.000000</td>\n",
       "    </tr>\n",
       "    <tr>\n",
       "      <th>mean</th>\n",
       "      <td>4.173175</td>\n",
       "      <td>2.553137e+05</td>\n",
       "      <td>2.069274e+07</td>\n",
       "      <td>9.167325e+06</td>\n",
       "      <td>1.037956</td>\n",
       "    </tr>\n",
       "    <tr>\n",
       "      <th>std</th>\n",
       "      <td>0.536672</td>\n",
       "      <td>1.985832e+06</td>\n",
       "      <td>2.150960e+07</td>\n",
       "      <td>5.825780e+07</td>\n",
       "      <td>16.859934</td>\n",
       "    </tr>\n",
       "    <tr>\n",
       "      <th>min</th>\n",
       "      <td>1.000000</td>\n",
       "      <td>1.000000e+00</td>\n",
       "      <td>8.500000e+03</td>\n",
       "      <td>1.000000e+00</td>\n",
       "      <td>0.000000</td>\n",
       "    </tr>\n",
       "    <tr>\n",
       "      <th>25%</th>\n",
       "      <td>4.000000</td>\n",
       "      <td>1.260000e+02</td>\n",
       "      <td>5.500000e+06</td>\n",
       "      <td>1.000000e+04</td>\n",
       "      <td>0.000000</td>\n",
       "    </tr>\n",
       "    <tr>\n",
       "      <th>50%</th>\n",
       "      <td>4.300000</td>\n",
       "      <td>3.009500e+03</td>\n",
       "      <td>1.250000e+07</td>\n",
       "      <td>1.000000e+05</td>\n",
       "      <td>0.000000</td>\n",
       "    </tr>\n",
       "    <tr>\n",
       "      <th>75%</th>\n",
       "      <td>4.500000</td>\n",
       "      <td>4.383900e+04</td>\n",
       "      <td>2.800000e+07</td>\n",
       "      <td>1.000000e+06</td>\n",
       "      <td>0.000000</td>\n",
       "    </tr>\n",
       "    <tr>\n",
       "      <th>max</th>\n",
       "      <td>5.000000</td>\n",
       "      <td>7.815831e+07</td>\n",
       "      <td>1.000000e+08</td>\n",
       "      <td>1.000000e+09</td>\n",
       "      <td>400.000000</td>\n",
       "    </tr>\n",
       "  </tbody>\n",
       "</table>\n",
       "</div>"
      ],
      "text/plain": [
       "            Rating       Reviews          Size      Installs        Price\n",
       "count  8194.000000  8.194000e+03  8.194000e+03  8.194000e+03  8194.000000\n",
       "mean      4.173175  2.553137e+05  2.069274e+07  9.167325e+06     1.037956\n",
       "std       0.536672  1.985832e+06  2.150960e+07  5.825780e+07    16.859934\n",
       "min       1.000000  1.000000e+00  8.500000e+03  1.000000e+00     0.000000\n",
       "25%       4.000000  1.260000e+02  5.500000e+06  1.000000e+04     0.000000\n",
       "50%       4.300000  3.009500e+03  1.250000e+07  1.000000e+05     0.000000\n",
       "75%       4.500000  4.383900e+04  2.800000e+07  1.000000e+06     0.000000\n",
       "max       5.000000  7.815831e+07  1.000000e+08  1.000000e+09   400.000000"
      ]
     },
     "execution_count": 6,
     "metadata": {},
     "output_type": "execute_result"
    }
   ],
   "source": [
    "df.describe()"
   ]
  },
  {
   "cell_type": "markdown",
   "id": "vietnamese-darwin",
   "metadata": {},
   "source": [
    "## 2.1 Quais são os 10 Apps mais baixados?\n",
    "Para analisar quais são os apps mais baixados, ordenaremos os registros pela coluna \"Installs\". Em caso de empate, desempataremos pela _avaliação_ dos aplicativos, ou seja, realizaremos uma nova ordenação pela coluna \"Rating\"."
   ]
  },
  {
   "cell_type": "code",
   "execution_count": 14,
   "id": "cultural-simple",
   "metadata": {},
   "outputs": [
    {
     "data": {
      "text/html": [
       "<div>\n",
       "<style scoped>\n",
       "    .dataframe tbody tr th:only-of-type {\n",
       "        vertical-align: middle;\n",
       "    }\n",
       "\n",
       "    .dataframe tbody tr th {\n",
       "        vertical-align: top;\n",
       "    }\n",
       "\n",
       "    .dataframe thead th {\n",
       "        text-align: right;\n",
       "    }\n",
       "</style>\n",
       "<table border=\"1\" class=\"dataframe\">\n",
       "  <thead>\n",
       "    <tr style=\"text-align: right;\">\n",
       "      <th></th>\n",
       "      <th>App</th>\n",
       "      <th>Category</th>\n",
       "      <th>Rating</th>\n",
       "      <th>Reviews</th>\n",
       "      <th>Size</th>\n",
       "      <th>Installs</th>\n",
       "      <th>Type</th>\n",
       "      <th>Price</th>\n",
       "      <th>Content Rating</th>\n",
       "      <th>Genres</th>\n",
       "      <th>Last Updated</th>\n",
       "      <th>Current Ver</th>\n",
       "      <th>Android Ver</th>\n",
       "    </tr>\n",
       "  </thead>\n",
       "  <tbody>\n",
       "    <tr>\n",
       "      <th>1276</th>\n",
       "      <td>Subway Surfers</td>\n",
       "      <td>GAME</td>\n",
       "      <td>4.5</td>\n",
       "      <td>27722264</td>\n",
       "      <td>76000000.0</td>\n",
       "      <td>1000000000</td>\n",
       "      <td>Free</td>\n",
       "      <td>0.0</td>\n",
       "      <td>Everyone 10+</td>\n",
       "      <td>Arcade</td>\n",
       "      <td>2018-07-12</td>\n",
       "      <td>1.90.0</td>\n",
       "      <td>4.1 and up</td>\n",
       "    </tr>\n",
       "    <tr>\n",
       "      <th>1873</th>\n",
       "      <td>Instagram</td>\n",
       "      <td>SOCIAL</td>\n",
       "      <td>4.5</td>\n",
       "      <td>66577313</td>\n",
       "      <td>9900000.0</td>\n",
       "      <td>1000000000</td>\n",
       "      <td>Free</td>\n",
       "      <td>0.0</td>\n",
       "      <td>Teen</td>\n",
       "      <td>Social</td>\n",
       "      <td>2018-07-31</td>\n",
       "      <td>1.0.0</td>\n",
       "      <td>Varies with device</td>\n",
       "    </tr>\n",
       "    <tr>\n",
       "      <th>2061</th>\n",
       "      <td>Google Photos</td>\n",
       "      <td>PHOTOGRAPHY</td>\n",
       "      <td>4.5</td>\n",
       "      <td>10858556</td>\n",
       "      <td>10500000.0</td>\n",
       "      <td>1000000000</td>\n",
       "      <td>Free</td>\n",
       "      <td>0.0</td>\n",
       "      <td>Everyone</td>\n",
       "      <td>Photography</td>\n",
       "      <td>2018-08-06</td>\n",
       "      <td>1.0.0</td>\n",
       "      <td>Varies with device</td>\n",
       "    </tr>\n",
       "    <tr>\n",
       "      <th>288</th>\n",
       "      <td>WhatsApp Messenger</td>\n",
       "      <td>COMMUNICATION</td>\n",
       "      <td>4.4</td>\n",
       "      <td>69119316</td>\n",
       "      <td>6100000.0</td>\n",
       "      <td>1000000000</td>\n",
       "      <td>Free</td>\n",
       "      <td>0.0</td>\n",
       "      <td>Everyone</td>\n",
       "      <td>Communication</td>\n",
       "      <td>2018-08-03</td>\n",
       "      <td>1.0.0</td>\n",
       "      <td>Varies with device</td>\n",
       "    </tr>\n",
       "    <tr>\n",
       "      <th>2377</th>\n",
       "      <td>Google</td>\n",
       "      <td>TOOLS</td>\n",
       "      <td>4.4</td>\n",
       "      <td>8033493</td>\n",
       "      <td>4100000.0</td>\n",
       "      <td>1000000000</td>\n",
       "      <td>Free</td>\n",
       "      <td>0.0</td>\n",
       "      <td>Everyone</td>\n",
       "      <td>Tools</td>\n",
       "      <td>2018-08-03</td>\n",
       "      <td>1.0.0</td>\n",
       "      <td>Varies with device</td>\n",
       "    </tr>\n",
       "    <tr>\n",
       "      <th>2588</th>\n",
       "      <td>Google Drive</td>\n",
       "      <td>PRODUCTIVITY</td>\n",
       "      <td>4.4</td>\n",
       "      <td>2731171</td>\n",
       "      <td>7000000.0</td>\n",
       "      <td>1000000000</td>\n",
       "      <td>Free</td>\n",
       "      <td>0.0</td>\n",
       "      <td>Everyone</td>\n",
       "      <td>Productivity</td>\n",
       "      <td>2018-08-06</td>\n",
       "      <td>1.0.0</td>\n",
       "      <td>Varies with device</td>\n",
       "    </tr>\n",
       "    <tr>\n",
       "      <th>290</th>\n",
       "      <td>Google Chrome: Fast &amp; Secure</td>\n",
       "      <td>COMMUNICATION</td>\n",
       "      <td>4.3</td>\n",
       "      <td>9642995</td>\n",
       "      <td>6100000.0</td>\n",
       "      <td>1000000000</td>\n",
       "      <td>Free</td>\n",
       "      <td>0.0</td>\n",
       "      <td>Everyone</td>\n",
       "      <td>Communication</td>\n",
       "      <td>2018-08-01</td>\n",
       "      <td>1.0.0</td>\n",
       "      <td>Varies with device</td>\n",
       "    </tr>\n",
       "    <tr>\n",
       "      <th>292</th>\n",
       "      <td>Gmail</td>\n",
       "      <td>COMMUNICATION</td>\n",
       "      <td>4.3</td>\n",
       "      <td>4604324</td>\n",
       "      <td>6100000.0</td>\n",
       "      <td>1000000000</td>\n",
       "      <td>Free</td>\n",
       "      <td>0.0</td>\n",
       "      <td>Everyone</td>\n",
       "      <td>Communication</td>\n",
       "      <td>2018-08-02</td>\n",
       "      <td>1.0.0</td>\n",
       "      <td>Varies with device</td>\n",
       "    </tr>\n",
       "    <tr>\n",
       "      <th>651</th>\n",
       "      <td>Google Play Games</td>\n",
       "      <td>ENTERTAINMENT</td>\n",
       "      <td>4.3</td>\n",
       "      <td>7165362</td>\n",
       "      <td>19000000.0</td>\n",
       "      <td>1000000000</td>\n",
       "      <td>Free</td>\n",
       "      <td>0.0</td>\n",
       "      <td>Teen</td>\n",
       "      <td>Entertainment</td>\n",
       "      <td>2018-07-16</td>\n",
       "      <td>1.0.0</td>\n",
       "      <td>Varies with device</td>\n",
       "    </tr>\n",
       "    <tr>\n",
       "      <th>2290</th>\n",
       "      <td>Maps - Navigate &amp; Explore</td>\n",
       "      <td>TRAVEL_AND_LOCAL</td>\n",
       "      <td>4.3</td>\n",
       "      <td>9235155</td>\n",
       "      <td>19000000.0</td>\n",
       "      <td>1000000000</td>\n",
       "      <td>Free</td>\n",
       "      <td>0.0</td>\n",
       "      <td>Everyone</td>\n",
       "      <td>Travel &amp; Local</td>\n",
       "      <td>2018-07-31</td>\n",
       "      <td>1.0.0</td>\n",
       "      <td>Varies with device</td>\n",
       "    </tr>\n",
       "  </tbody>\n",
       "</table>\n",
       "</div>"
      ],
      "text/plain": [
       "                               App          Category  Rating   Reviews  \\\n",
       "1276                Subway Surfers              GAME     4.5  27722264   \n",
       "1873                     Instagram            SOCIAL     4.5  66577313   \n",
       "2061                 Google Photos       PHOTOGRAPHY     4.5  10858556   \n",
       "288             WhatsApp Messenger     COMMUNICATION     4.4  69119316   \n",
       "2377                        Google             TOOLS     4.4   8033493   \n",
       "2588                  Google Drive      PRODUCTIVITY     4.4   2731171   \n",
       "290   Google Chrome: Fast & Secure     COMMUNICATION     4.3   9642995   \n",
       "292                          Gmail     COMMUNICATION     4.3   4604324   \n",
       "651              Google Play Games     ENTERTAINMENT     4.3   7165362   \n",
       "2290     Maps - Navigate & Explore  TRAVEL_AND_LOCAL     4.3   9235155   \n",
       "\n",
       "            Size    Installs  Type  Price Content Rating          Genres  \\\n",
       "1276  76000000.0  1000000000  Free    0.0   Everyone 10+          Arcade   \n",
       "1873   9900000.0  1000000000  Free    0.0           Teen          Social   \n",
       "2061  10500000.0  1000000000  Free    0.0       Everyone     Photography   \n",
       "288    6100000.0  1000000000  Free    0.0       Everyone   Communication   \n",
       "2377   4100000.0  1000000000  Free    0.0       Everyone           Tools   \n",
       "2588   7000000.0  1000000000  Free    0.0       Everyone    Productivity   \n",
       "290    6100000.0  1000000000  Free    0.0       Everyone   Communication   \n",
       "292    6100000.0  1000000000  Free    0.0       Everyone   Communication   \n",
       "651   19000000.0  1000000000  Free    0.0           Teen   Entertainment   \n",
       "2290  19000000.0  1000000000  Free    0.0       Everyone  Travel & Local   \n",
       "\n",
       "     Last Updated Current Ver         Android Ver  \n",
       "1276   2018-07-12      1.90.0          4.1 and up  \n",
       "1873   2018-07-31       1.0.0  Varies with device  \n",
       "2061   2018-08-06       1.0.0  Varies with device  \n",
       "288    2018-08-03       1.0.0  Varies with device  \n",
       "2377   2018-08-03       1.0.0  Varies with device  \n",
       "2588   2018-08-06       1.0.0  Varies with device  \n",
       "290    2018-08-01       1.0.0  Varies with device  \n",
       "292    2018-08-02       1.0.0  Varies with device  \n",
       "651    2018-07-16       1.0.0  Varies with device  \n",
       "2290   2018-07-31       1.0.0  Varies with device  "
      ]
     },
     "execution_count": 14,
     "metadata": {},
     "output_type": "execute_result"
    }
   ],
   "source": [
    "top10_apps_mais_baixados = df.sort_values(by=['Installs', 'Rating'], ascending=[False, False]).head(10)\n",
    "top10_apps_mais_baixados"
   ]
  },
  {
   "cell_type": "code",
   "execution_count": 17,
   "id": "entitled-repository",
   "metadata": {},
   "outputs": [
    {
     "data": {
      "text/plain": [
       "Text(0.5, 1.0, 'Top 10 Apps mais baixados')"
      ]
     },
     "execution_count": 17,
     "metadata": {},
     "output_type": "execute_result"
    },
    {
     "data": {
      "image/png": "[encoded data removed]",
      "text/plain": [
       "<Figure size 720x432 with 1 Axes>"
      ]
     },
     "metadata": {},
     "output_type": "display_data"
    }
   ],
   "source": [
    "sns.barplot(data=top10_apps_mais_baixados, x='Installs', y='App')\n",
    "plt.xticks([0, 0.2e9, 0.4e9, 0.6e9, 0.8e9, 1e9], ['0', '200M', '400M', '600M', '800M', '1B'])\n",
    "plt.title('Top 10 Apps mais baixados')"
   ]
  },
  {
   "cell_type": "markdown",
   "id": "focal-label",
   "metadata": {},
   "source": [
    "### 2.2 Qual a quantidade de aplicativos por categoria?"
   ]
  },
  {
   "cell_type": "code",
   "execution_count": 18,
   "id": "variable-stretch",
   "metadata": {},
   "outputs": [
    {
     "data": {
      "text/html": [
       "<div>\n",
       "<style scoped>\n",
       "    .dataframe tbody tr th:only-of-type {\n",
       "        vertical-align: middle;\n",
       "    }\n",
       "\n",
       "    .dataframe tbody tr th {\n",
       "        vertical-align: top;\n",
       "    }\n",
       "\n",
       "    .dataframe thead th {\n",
       "        text-align: right;\n",
       "    }\n",
       "</style>\n",
       "<table border=\"1\" class=\"dataframe\">\n",
       "  <thead>\n",
       "    <tr style=\"text-align: right;\">\n",
       "      <th></th>\n",
       "      <th>App</th>\n",
       "      <th>Category</th>\n",
       "      <th>Rating</th>\n",
       "      <th>Reviews</th>\n",
       "      <th>Size</th>\n",
       "      <th>Installs</th>\n",
       "      <th>Type</th>\n",
       "      <th>Price</th>\n",
       "      <th>Content Rating</th>\n",
       "      <th>Genres</th>\n",
       "      <th>Last Updated</th>\n",
       "      <th>Current Ver</th>\n",
       "      <th>Android Ver</th>\n",
       "    </tr>\n",
       "  </thead>\n",
       "  <tbody>\n",
       "    <tr>\n",
       "      <th>0</th>\n",
       "      <td>Photo Editor &amp; Candy Camera &amp; Grid &amp; ScrapBook</td>\n",
       "      <td>ART_AND_DESIGN</td>\n",
       "      <td>4.1</td>\n",
       "      <td>159</td>\n",
       "      <td>19000000.0</td>\n",
       "      <td>10000</td>\n",
       "      <td>Free</td>\n",
       "      <td>0.0</td>\n",
       "      <td>Everyone</td>\n",
       "      <td>Art &amp; Design</td>\n",
       "      <td>2018-01-07</td>\n",
       "      <td>1.0.0</td>\n",
       "      <td>4.0.3 and up</td>\n",
       "    </tr>\n",
       "    <tr>\n",
       "      <th>1</th>\n",
       "      <td>Coloring book moana</td>\n",
       "      <td>ART_AND_DESIGN</td>\n",
       "      <td>3.9</td>\n",
       "      <td>967</td>\n",
       "      <td>14000000.0</td>\n",
       "      <td>500000</td>\n",
       "      <td>Free</td>\n",
       "      <td>0.0</td>\n",
       "      <td>Everyone</td>\n",
       "      <td>Art &amp; Design;Pretend Play</td>\n",
       "      <td>2018-01-15</td>\n",
       "      <td>2.0.0</td>\n",
       "      <td>4.0.3 and up</td>\n",
       "    </tr>\n",
       "    <tr>\n",
       "      <th>2</th>\n",
       "      <td>U Launcher Lite – FREE Live Cool Themes, Hide ...</td>\n",
       "      <td>ART_AND_DESIGN</td>\n",
       "      <td>4.7</td>\n",
       "      <td>87510</td>\n",
       "      <td>8700000.0</td>\n",
       "      <td>5000000</td>\n",
       "      <td>Free</td>\n",
       "      <td>0.0</td>\n",
       "      <td>Everyone</td>\n",
       "      <td>Art &amp; Design</td>\n",
       "      <td>2018-08-01</td>\n",
       "      <td>1.2.4</td>\n",
       "      <td>4.0.3 and up</td>\n",
       "    </tr>\n",
       "    <tr>\n",
       "      <th>3</th>\n",
       "      <td>Sketch - Draw &amp; Paint</td>\n",
       "      <td>ART_AND_DESIGN</td>\n",
       "      <td>4.5</td>\n",
       "      <td>215644</td>\n",
       "      <td>25000000.0</td>\n",
       "      <td>50000000</td>\n",
       "      <td>Free</td>\n",
       "      <td>0.0</td>\n",
       "      <td>Teen</td>\n",
       "      <td>Art &amp; Design</td>\n",
       "      <td>2018-06-08</td>\n",
       "      <td>1.0.0</td>\n",
       "      <td>4.2 and up</td>\n",
       "    </tr>\n",
       "    <tr>\n",
       "      <th>4</th>\n",
       "      <td>Pixel Draw - Number Art Coloring Book</td>\n",
       "      <td>ART_AND_DESIGN</td>\n",
       "      <td>4.3</td>\n",
       "      <td>967</td>\n",
       "      <td>2800000.0</td>\n",
       "      <td>100000</td>\n",
       "      <td>Free</td>\n",
       "      <td>0.0</td>\n",
       "      <td>Everyone</td>\n",
       "      <td>Art &amp; Design;Creativity</td>\n",
       "      <td>2018-06-20</td>\n",
       "      <td>1.1</td>\n",
       "      <td>4.4 and up</td>\n",
       "    </tr>\n",
       "  </tbody>\n",
       "</table>\n",
       "</div>"
      ],
      "text/plain": [
       "                                                 App        Category  Rating  \\\n",
       "0     Photo Editor & Candy Camera & Grid & ScrapBook  ART_AND_DESIGN     4.1   \n",
       "1                                Coloring book moana  ART_AND_DESIGN     3.9   \n",
       "2  U Launcher Lite – FREE Live Cool Themes, Hide ...  ART_AND_DESIGN     4.7   \n",
       "3                              Sketch - Draw & Paint  ART_AND_DESIGN     4.5   \n",
       "4              Pixel Draw - Number Art Coloring Book  ART_AND_DESIGN     4.3   \n",
       "\n",
       "   Reviews        Size  Installs  Type  Price Content Rating  \\\n",
       "0      159  19000000.0     10000  Free    0.0       Everyone   \n",
       "1      967  14000000.0    500000  Free    0.0       Everyone   \n",
       "2    87510   8700000.0   5000000  Free    0.0       Everyone   \n",
       "3   215644  25000000.0  50000000  Free    0.0           Teen   \n",
       "4      967   2800000.0    100000  Free    0.0       Everyone   \n",
       "\n",
       "                      Genres Last Updated Current Ver   Android Ver  \n",
       "0               Art & Design   2018-01-07       1.0.0  4.0.3 and up  \n",
       "1  Art & Design;Pretend Play   2018-01-15       2.0.0  4.0.3 and up  \n",
       "2               Art & Design   2018-08-01       1.2.4  4.0.3 and up  \n",
       "3               Art & Design   2018-06-08       1.0.0    4.2 and up  \n",
       "4    Art & Design;Creativity   2018-06-20         1.1    4.4 and up  "
      ]
     },
     "execution_count": 18,
     "metadata": {},
     "output_type": "execute_result"
    }
   ],
   "source": [
    "df.head()"
   ]
  },
  {
   "cell_type": "code",
   "execution_count": 20,
   "id": "incomplete-pressure",
   "metadata": {},
   "outputs": [
    {
     "data": {
      "text/plain": [
       "Category\n",
       "FAMILY                 1608\n",
       "GAME                    912\n",
       "TOOLS                   718\n",
       "FINANCE                 302\n",
       "LIFESTYLE               301\n",
       "PRODUCTIVITY            301\n",
       "PERSONALIZATION         296\n",
       "MEDICAL                 290\n",
       "BUSINESS                263\n",
       "PHOTOGRAPHY             263\n",
       "SPORTS                  260\n",
       "COMMUNICATION           256\n",
       "HEALTH_AND_FITNESS      244\n",
       "NEWS_AND_MAGAZINES      204\n",
       "SOCIAL                  203\n",
       "TRAVEL_AND_LOCAL        187\n",
       "SHOPPING                180\n",
       "BOOKS_AND_REFERENCE     169\n",
       "VIDEO_PLAYERS           148\n",
       "DATING                  134\n",
       "EDUCATION               118\n",
       "MAPS_AND_NAVIGATION     118\n",
       "ENTERTAINMENT           102\n",
       "FOOD_AND_DRINK           94\n",
       "AUTO_AND_VEHICLES        73\n",
       "WEATHER                  72\n",
       "LIBRARIES_AND_DEMO       64\n",
       "HOUSE_AND_HOME           62\n",
       "ART_AND_DESIGN           61\n",
       "COMICS                   54\n",
       "PARENTING                50\n",
       "EVENTS                   45\n",
       "BEAUTY                   42\n",
       "dtype: int64"
      ]
     },
     "execution_count": 20,
     "metadata": {},
     "output_type": "execute_result"
    }
   ],
   "source": [
    "df.value_counts(subset='Category')"
   ]
  },
  {
   "cell_type": "code",
   "execution_count": 27,
   "id": "differential-carpet",
   "metadata": {},
   "outputs": [
    {
     "data": {
      "image/png": "[encoded data removed]",
      "text/plain": [
       "<Figure size 720x432 with 1 Axes>"
      ]
     },
     "metadata": {},
     "output_type": "display_data"
    }
   ],
   "source": [
    "sns.countplot(data=df, x='Category')\n",
    "plt.xticks(rotation=90)\n",
    "plt.xlabel('Categoria')\n",
    "plt.ylabel('Qtde de Apps')\n",
    "plt.title('Qtde de Apps por Categoria')\n",
    "display()"
   ]
  },
  {
   "cell_type": "code",
   "execution_count": 31,
   "id": "italic-mystery",
   "metadata": {},
   "outputs": [
    {
     "data": {
      "text/plain": [
       "Text(0.5, 1.0, 'Qtde de Apps por Categoria')"
      ]
     },
     "execution_count": 31,
     "metadata": {},
     "output_type": "execute_result"
    },
    {
     "data": {
      "image/png": "[encoded data removed]",
      "text/plain": [
       "<Figure size 1440x720 with 1 Axes>"
      ]
     },
     "metadata": {},
     "output_type": "display_data"
    }
   ],
   "source": [
    "plt.figure(figsize=(20, 10))\n",
    "\n",
    "sns.countplot(data=df, y='Category')\n",
    "plt.xlabel('Qtde de Apps', fontsize=20)\n",
    "plt.ylabel('Categoria')\n",
    "plt.title('Qtde de Apps por Categoria')"
   ]
  },
  {
   "cell_type": "markdown",
   "id": "structural-cooking",
   "metadata": {},
   "source": [
    "A distribuição das barras não está **ordenada**. Para ordená-las, precisamos passar a lista de nomes da 'Category' na orde que queremos visualizar.\n",
    "\n",
    "Neste caso, vamos visualizar as barras em **ordem decrescente** da quantidade de apps por categoria."
   ]
  },
  {
   "cell_type": "code",
   "execution_count": 38,
   "id": "endangered-thanks",
   "metadata": {},
   "outputs": [
    {
     "data": {
      "text/plain": [
       "Index(['FAMILY', 'GAME', 'TOOLS', 'FINANCE', 'LIFESTYLE', 'PRODUCTIVITY',\n",
       "       'PERSONALIZATION', 'MEDICAL', 'BUSINESS', 'PHOTOGRAPHY', 'SPORTS',\n",
       "       'COMMUNICATION', 'HEALTH_AND_FITNESS', 'NEWS_AND_MAGAZINES', 'SOCIAL',\n",
       "       'TRAVEL_AND_LOCAL', 'SHOPPING', 'BOOKS_AND_REFERENCE', 'VIDEO_PLAYERS',\n",
       "       'DATING', 'EDUCATION', 'MAPS_AND_NAVIGATION', 'ENTERTAINMENT',\n",
       "       'FOOD_AND_DRINK', 'AUTO_AND_VEHICLES', 'WEATHER', 'LIBRARIES_AND_DEMO',\n",
       "       'HOUSE_AND_HOME', 'ART_AND_DESIGN', 'COMICS', 'PARENTING', 'EVENTS',\n",
       "       'BEAUTY'],\n",
       "      dtype='object', name='Category')"
      ]
     },
     "execution_count": 38,
     "metadata": {},
     "output_type": "execute_result"
    }
   ],
   "source": [
    "order = df.value_counts(subset='Category').index\n",
    "order"
   ]
  },
  {
   "cell_type": "code",
   "execution_count": 40,
   "id": "suspended-diving",
   "metadata": {},
   "outputs": [
    {
     "data": {
      "image/png": "[encoded data removed]",
      "text/plain": [
       "<Figure size 1440x720 with 1 Axes>"
      ]
     },
     "metadata": {},
     "output_type": "display_data"
    }
   ],
   "source": [
    "plt.figure(figsize=(20, 10))\n",
    "\n",
    "sns.countplot(data=df, y='Category', order=order)\n",
    "plt.xlabel('Qtde de Apps', fontsize=20)\n",
    "plt.ylabel('Categoria')\n",
    "plt.title('Qtde de Apps por Categoria')\n",
    "\n",
    "display()  # omite saída de texto na tela vindas da biblioteca de plot"
   ]
  },
  {
   "cell_type": "markdown",
   "id": "several-fault",
   "metadata": {},
   "source": [
    "As cores ilustradas no plot _não têm qualquer significado_ (nenhuma variável foi codificada usando cor)."
   ]
  },
  {
   "cell_type": "markdown",
   "id": "adult-penny",
   "metadata": {},
   "source": [
    "### 2.3 Como se comportam as avaliações dos aplicativos? (tendências centrais, distribuição, etc)"
   ]
  },
  {
   "cell_type": "code",
   "execution_count": null,
   "id": "identical-recipe",
   "metadata": {},
   "outputs": [],
   "source": []
  },
  {
   "cell_type": "code",
   "execution_count": null,
   "id": "fancy-senegal",
   "metadata": {},
   "outputs": [],
   "source": []
  },
  {
   "cell_type": "code",
   "execution_count": null,
   "id": "deadly-raising",
   "metadata": {},
   "outputs": [],
   "source": []
  },
  {
   "cell_type": "markdown",
   "id": "cloudy-spare",
   "metadata": {},
   "source": [
    "Note que a **média** e a **mediana** não estão muito longe e que o **desvio padrão** não é tão alto, mesmo com uma escala tão baixa com é a das avaliações (de 0 a 5). Tudo isso indica (em números) que a dispersão de notas/avaliações dos aplitativos não é tão grande."
   ]
  },
  {
   "cell_type": "markdown",
   "id": "productive-confirmation",
   "metadata": {},
   "source": [
    "#### HISTOGRAMA"
   ]
  },
  {
   "cell_type": "code",
   "execution_count": null,
   "id": "activated-startup",
   "metadata": {},
   "outputs": [],
   "source": []
  },
  {
   "cell_type": "markdown",
   "id": "sudden-anxiety",
   "metadata": {},
   "source": [
    "A **distribuição das avaliações** tem semelhanças com um _distribuição normal_ enviesada à esquerda (skewed left distribution). <br/>\n",
    "\n",
    "Apenas olhando este gráfico podemos notar que a grande maioria das avaliações estão no intervalo entre 4.0 e 5.0."
   ]
  },
  {
   "cell_type": "markdown",
   "id": "christian-delight",
   "metadata": {},
   "source": [
    "#### BOXPLOT"
   ]
  },
  {
   "cell_type": "code",
   "execution_count": null,
   "id": "curious-cholesterol",
   "metadata": {},
   "outputs": [],
   "source": []
  },
  {
   "cell_type": "code",
   "execution_count": null,
   "id": "informal-perfume",
   "metadata": {},
   "outputs": [],
   "source": []
  },
  {
   "cell_type": "markdown",
   "id": "duplicate-albania",
   "metadata": {},
   "source": [
    "Pelo boxplot, é possível enxergar que 50% dos dados estão entre as avaliações 4.0 (Q1) e 4.5 (Q3), confirmando os resultados vindos do método `.describe()`.\n",
    "\n",
    "Por outro lado, ele interpretou que os aplicativos com avaliações _menores do que ~3.25_ são ***outliers*** da distribuição. <br/>\n",
    "Entretanto, é comum termos aplicativos mal avaliados. Assim sendo, a inclusão destes aplicativos na análise é relevante."
   ]
  },
  {
   "cell_type": "code",
   "execution_count": null,
   "id": "signal-raleigh",
   "metadata": {},
   "outputs": [],
   "source": []
  },
  {
   "cell_type": "code",
   "execution_count": null,
   "id": "arbitrary-print",
   "metadata": {},
   "outputs": [],
   "source": []
  },
  {
   "cell_type": "markdown",
   "id": "lesbian-incident",
   "metadata": {},
   "source": [
    "<br/>\n",
    "\n",
    "O boxplot do seaborn identifica outliers usando o método de detecção via IQR. Para tanto, ele considera como **outlier** qualquer valor fora do intervalo **\\[Q1 - 1.5\\*IQR, Q3 + 1.5\\*IQR\\]**. Podemos controlar o fator **1.5** alterando o parâmetro `whis`. <br/>\n",
    "\n",
    "Se quisermos, por exemplo, que o boxplot não tenha _outliers_, basta passar um valor alto para o `whis`."
   ]
  },
  {
   "cell_type": "code",
   "execution_count": null,
   "id": "colonial-inquiry",
   "metadata": {},
   "outputs": [],
   "source": []
  },
  {
   "cell_type": "markdown",
   "id": "elder-convert",
   "metadata": {},
   "source": [
    "#### VIOLIN PLOT"
   ]
  },
  {
   "cell_type": "code",
   "execution_count": null,
   "id": "absolute-pocket",
   "metadata": {},
   "outputs": [],
   "source": []
  },
  {
   "cell_type": "markdown",
   "id": "intellectual-apparatus",
   "metadata": {},
   "source": [
    "O _violin plot_ nos dá uma noção mais precisa de como os dados estão distribuídos, principalmente, entre os quartis."
   ]
  },
  {
   "cell_type": "markdown",
   "id": "million-imperial",
   "metadata": {},
   "source": [
    "### 2.4 Qual categoria é a melhor avaliada?"
   ]
  },
  {
   "cell_type": "code",
   "execution_count": null,
   "id": "promotional-typing",
   "metadata": {},
   "outputs": [],
   "source": []
  },
  {
   "cell_type": "markdown",
   "id": "quarterly-confirmation",
   "metadata": {},
   "source": [
    "Vamos considerar que as melhores categorias são aquelas que possuem as maiores **médias**."
   ]
  },
  {
   "cell_type": "code",
   "execution_count": null,
   "id": "configured-means",
   "metadata": {},
   "outputs": [],
   "source": []
  },
  {
   "cell_type": "markdown",
   "id": "brave-james",
   "metadata": {},
   "source": [
    "Ao computar a _média das avaliações por categoria_ e ordenar pela **maior média**, constatamos que a categoria \"EVENTS\" possui a maior média. <br/>\n",
    "Mas, **não** é possível afirmar que essa é a _categoria melhor avaliada **apenas olhando para estes resultados**_, pois **o tamanho de cada amostra/grupo** (i.e., a quantidade de aplicativos por categoria) é diferente. Além disso, o **desvio padrão** também muda de categoria para categoria.<br/>\n",
    "\n",
    "P. ex., a categoria \"EVENTS\" possui 45 apps, enquanto \"BOOKS_AND_REFERENCE\" possui 169.\n",
    "\n",
    "Precisaríamos rodar algum **teste estatístico específico**, p. ex., para ter essa certeza. <br/>"
   ]
  },
  {
   "cell_type": "markdown",
   "id": "different-dating",
   "metadata": {},
   "source": [
    "Outra meneira (mais simples), é garantir **a mesma quantidade de observações para cada grupo** (mesmo tamanho de amostra). <br/>\n",
    "Para isso, assumiríamos o tamanho do menor grupo, suponha N, e, para cada grupo restante, selecionaríamos _aleatoriamente_ N observações. <br/>\n",
    "Mas, e se, **ao acaso**, selecionamos apenas observações com uma dada característica que não, necessariamente, representasse bem nossa distribuição original? <br/>\n",
    "Uma alternativa, é realizar essa seleção múltiplas vezes. Mas este é um assunto para depois.\n",
    "\n",
    "Algumas discussões interessantes sobre o assunto: <br/>\n",
    "- https://www.researchgate.net/post/Is_there_any_way_to_compare_two_datasets_with_drastically_different_sample_sizes#:~:text=Most%20recent%20answer&text=One%20way%20to%20compare%20the,the%20single%204%20sample%20set.\n",
    "- https://stackoverflow.com/a/63099989\n",
    "- https://www.statisticshowto.com/unequal-sample-sizes/\n",
    "- https://www.graphpad.com/support/faq/how-to-compare-two-means-when-the-groups-have-different-standard-deviations/\n"
   ]
  },
  {
   "cell_type": "markdown",
   "id": "greater-struggle",
   "metadata": {},
   "source": [
    "Por ora, vamos simplificar e assumir que apenas analisar esses resultados é suficiente para decidirmos quais são as categorias melhores avaliadas."
   ]
  },
  {
   "cell_type": "code",
   "execution_count": null,
   "id": "adverse-bristol",
   "metadata": {},
   "outputs": [],
   "source": []
  },
  {
   "cell_type": "code",
   "execution_count": null,
   "id": "lesbian-priest",
   "metadata": {},
   "outputs": [],
   "source": []
  },
  {
   "cell_type": "code",
   "execution_count": null,
   "id": "faced-universal",
   "metadata": {},
   "outputs": [],
   "source": []
  },
  {
   "cell_type": "markdown",
   "id": "proper-invasion",
   "metadata": {},
   "source": [
    "Ao analisar o boxplot, podemos nota que algumas categorias (p.ex., 'HEALTH_AND_FITNESS') possuem um **desvio padrão** um pouco maior do que as demais categorias. <br/>\n",
    "Vamos dar uma olhada na distribuição das notas de uma dessas categorias apenas para ter um sentimento do que está acontecendo."
   ]
  },
  {
   "cell_type": "code",
   "execution_count": null,
   "id": "illegal-volunteer",
   "metadata": {},
   "outputs": [],
   "source": []
  },
  {
   "cell_type": "markdown",
   "id": "regulated-detail",
   "metadata": {},
   "source": [
    "### 2.5 Como as avaliações se distribuem em cada categoria?\n",
    "_Variável Numérica_ x _Variável Categórica_."
   ]
  },
  {
   "cell_type": "code",
   "execution_count": null,
   "id": "civic-observer",
   "metadata": {},
   "outputs": [],
   "source": []
  },
  {
   "cell_type": "code",
   "execution_count": null,
   "id": "medium-spank",
   "metadata": {},
   "outputs": [],
   "source": []
  },
  {
   "cell_type": "code",
   "execution_count": null,
   "id": "offshore-deadline",
   "metadata": {},
   "outputs": [],
   "source": []
  },
  {
   "cell_type": "markdown",
   "id": "sharing-lying",
   "metadata": {},
   "source": [
    "Para obter uma análise visual mais interessante, podemos ordenar os boxplots (ou violion plots) de acordo com algum critério. <br/>\n",
    "Por exemplo, podemos ordená-los pela _mediana_ de cada categoria a fim de analisar, p. ex., como estão distribuídos _a metade dos apps mais bem avaliados_ de cada categoria, além de **diminuir o impacto de outliers** na distribuição."
   ]
  },
  {
   "cell_type": "code",
   "execution_count": null,
   "id": "executive-joseph",
   "metadata": {},
   "outputs": [],
   "source": []
  },
  {
   "cell_type": "markdown",
   "id": "competent-newton",
   "metadata": {},
   "source": [
    "Ao analisar os boxplots, vemos que as categorias *BOOKS_AND_REFERENCE* e *HEALTH_AND_FITNESS* possuem uma quantidade considerável de apps muito bem avaliados --- ~50% de seus apps possuem avaliação >- 4.5. Entretanto, a **variância** (dispersão) de suas avaliações é **muito alta**, vários _outliers_. <br/>\n",
    "\n",
    "Vamos agora analisar o mesmo gráfico mas com as categorias organizadas pela **média** das avaliações."
   ]
  },
  {
   "cell_type": "code",
   "execution_count": null,
   "id": "dependent-allowance",
   "metadata": {},
   "outputs": [],
   "source": []
  },
  {
   "cell_type": "markdown",
   "id": "focused-adapter",
   "metadata": {},
   "source": [
    "Note que como a **média** é _sensível a outliers_, as categorias 'BOOKS_AND_REFERENCES_ e, principalmente, 'HEALTH_AND_FITNESS_ perderam posições. Categorias bem avaliadas e com poucos outliers (p. ex., 'EDUCATION' e 'EVENTS') apresentam médias maiores.\n",
    "\n",
    "Em resumo, esta maneira de organizar e visualizar este gráfico é interessante quando você quer considerar o impacto dos outliers da variável analisada. A visualização anterior, ordenando pelas medianas, visa o oposto."
   ]
  },
  {
   "cell_type": "markdown",
   "id": "excessive-jefferson",
   "metadata": {},
   "source": [
    "### 2.6 Qual a média e distribuição de downloads/instalações dos apps em geral?"
   ]
  },
  {
   "cell_type": "markdown",
   "id": "headed-morning",
   "metadata": {},
   "source": [
    "#### **CONSIDERANDO OS APPS MAIS POPULATES (_\"OUTLIERS\"_)**\n",
    "Vamos considerar que: **Mais popular** significa **mais instalado**"
   ]
  },
  {
   "cell_type": "code",
   "execution_count": null,
   "id": "studied-reward",
   "metadata": {},
   "outputs": [],
   "source": []
  },
  {
   "cell_type": "code",
   "execution_count": null,
   "id": "atlantic-browse",
   "metadata": {},
   "outputs": [],
   "source": []
  },
  {
   "cell_type": "markdown",
   "id": "altered-integral",
   "metadata": {},
   "source": [
    "Embora a escala da variável é muito alta ([1, 1B]), note como o **desvio padrão** é consideravelmente alto, o que indica que a _distribuição de instalações seja bem espalhada_. <br/>\n"
   ]
  },
  {
   "cell_type": "code",
   "execution_count": null,
   "id": "subject-bobby",
   "metadata": {},
   "outputs": [],
   "source": []
  },
  {
   "cell_type": "markdown",
   "id": "union-kuwait",
   "metadata": {},
   "source": [
    "De acordo com o boxplot acima, temos _uma pequena quantidade de apps_ que possuem uma **quantidade muito alta** de instalações ==> _outliers_. <br/>"
   ]
  },
  {
   "cell_type": "code",
   "execution_count": null,
   "id": "demonstrated-guard",
   "metadata": {},
   "outputs": [],
   "source": []
  },
  {
   "cell_type": "markdown",
   "id": "saving-peace",
   "metadata": {},
   "source": [
    "De fato, os outliers são aplicativos extremamente populares e baixados."
   ]
  },
  {
   "cell_type": "markdown",
   "id": "narrow-insulin",
   "metadata": {},
   "source": [
    "Podemos então fazer alguns tipos de análise frente a esta situação:\n",
    "- Analisamos como os outliers (apps mais instalados) se comportam\n",
    "- Analisamos os apps menos instalados (desconsideramos os outliers)"
   ]
  },
  {
   "cell_type": "markdown",
   "id": "charged-agenda",
   "metadata": {},
   "source": [
    "Para descobrir os outliers, poderíamos analisar o _boxplot_ e simplesmente \"chutar\" qual é o intervalo de valores que os outliers se encontram. <br/>\n",
    "Porém, uma forma mais interessante é utilizar, inicialmente, o **método de detecçao de outliers pelo IQR**, que é justamente o método utilizado pelo boxplot acima."
   ]
  },
  {
   "cell_type": "code",
   "execution_count": null,
   "id": "curious-stream",
   "metadata": {},
   "outputs": [],
   "source": []
  },
  {
   "cell_type": "markdown",
   "id": "frequent-battle",
   "metadata": {},
   "source": [
    "Como o número mínimo de instalações é 0, nosso **intervalo sem outliers real** é **[0, 2485000]**. <br/>\n",
    "Assim, os apps mais populares, com mais de 2485000 instalações, são considerados _outliers_."
   ]
  },
  {
   "cell_type": "code",
   "execution_count": null,
   "id": "sharing-study",
   "metadata": {},
   "outputs": [],
   "source": []
  },
  {
   "cell_type": "markdown",
   "id": "exempt-moderator",
   "metadata": {},
   "source": [
    "Temos um total de **1978** apps com mais de **2485000** instalações."
   ]
  },
  {
   "cell_type": "markdown",
   "id": "placed-concord",
   "metadata": {},
   "source": [
    "#### **Analisando os apps mais populares**"
   ]
  },
  {
   "cell_type": "code",
   "execution_count": null,
   "id": "juvenile-qatar",
   "metadata": {},
   "outputs": [],
   "source": []
  },
  {
   "cell_type": "code",
   "execution_count": null,
   "id": "sufficient-benefit",
   "metadata": {},
   "outputs": [],
   "source": []
  },
  {
   "cell_type": "markdown",
   "id": "floral-review",
   "metadata": {},
   "source": [
    "O **desvio padrão** dos _apps mais populares_ continua bem alto, o que indica que a distribuição do número de instalações é bem espalhada. <br/>\n",
    "Além disso, note que a **média** e **mediana** do número de instalações são _muito diferentes_."
   ]
  },
  {
   "cell_type": "code",
   "execution_count": null,
   "id": "portuguese-sacrifice",
   "metadata": {},
   "outputs": [],
   "source": []
  },
  {
   "cell_type": "markdown",
   "id": "social-brooklyn",
   "metadata": {},
   "source": [
    "Note que, mesmo entre os _aplicativos mais populares_ -- aqueles que possuem **número de instalações maior que 2485000** -- há alguns que extrapolam o número de instalações (**_outliers_**). <br/>\n",
    "Pelo boxplot, é possível chutar que qualquer app com mais do que 50M (0.05e9) são de fato **_outliers_**. <br/>\n",
    "\n",
    "Vamos analisar o **histograma** dos apps mais populares."
   ]
  },
  {
   "cell_type": "code",
   "execution_count": null,
   "id": "usual-concentration",
   "metadata": {},
   "outputs": [],
   "source": []
  },
  {
   "cell_type": "markdown",
   "id": "arabic-moderator",
   "metadata": {},
   "source": [
    "De fato, vemos que a maior parte dos apps mais populares possuem número de instalações inferior a 50M (0.05e9). <br/>\n",
    "\n",
    "Poderíamos estabelecer um **novo intervalo** de número de instalações para detectar _outliers_ (apps mais populares). O novo intervalo poderia ser **[0, 50000000]**, ao invés de [0, 2485000]. <br/>\n",
    "Consequentemente, diminuiríamos o número de apps inicialmente considerados outliers e aumentaríamos a quantidade dos apps \"normais\" (menos populares). <br/>\n",
    "\n",
    "O problema é que, provavelmente, estes _apps removidos dos outliers iniciais_ serão **outliers** na nova amostra de apps \"normais\". <br/>\n",
    "Analisemos o boxplot deste conjunto:"
   ]
  },
  {
   "cell_type": "code",
   "execution_count": null,
   "id": "buried-universe",
   "metadata": {},
   "outputs": [],
   "source": []
  },
  {
   "cell_type": "markdown",
   "id": "pending-bulletin",
   "metadata": {},
   "source": [
    "Ainda temos 'outliers' dentro da amostra de **'novos outliers'** ==> alta variância."
   ]
  },
  {
   "cell_type": "code",
   "execution_count": null,
   "id": "formal-profession",
   "metadata": {},
   "outputs": [],
   "source": []
  },
  {
   "cell_type": "markdown",
   "id": "sorted-begin",
   "metadata": {},
   "source": [
    "No _novo conjunto de apps menos populares_, temos agora **outliers**, que  são, justamente, os novos apps considerados. <br/>"
   ]
  },
  {
   "cell_type": "markdown",
   "id": "orange-alexandria",
   "metadata": {},
   "source": [
    "Dado este dilema, vamos adotar a seguinte estratégia: <br/>\n",
    "- Como o **conjunto de apps mais populares** (outliers iniciais) continuam com **alta variância** no _número de instalações_, independente se removermos seus apps com menos de 50M instalações, **manteremos** o conjunto de outliers originalmente obtidos como está. <br/>\n",
    "- Isso porque, neste momento, estamos interessados _apenas_ na análise de uma **única variável: _Installs_**. <br/>\n",
    "- Desta forma, mantemos um conjunto de apps de fato _sem outliers_ (apps menos populares) para uma análise menos \"ruidosa\"."
   ]
  },
  {
   "cell_type": "markdown",
   "id": "elect-egypt",
   "metadata": {},
   "source": [
    "Uma estratégia mais interessante ao querer confrontar/analisar **o número de instalações** com outra variável é agrupar os apps, de acordo com suas quantidades de downloads, em uma **nova variável categórica**. <br/>\n",
    "Isso tende _a facilitar nossa análise_, p. ex., isolando grupos de apps com números exorbitantes de instalação. <br/>\n",
    "Veremos isso jajá!"
   ]
  },
  {
   "cell_type": "markdown",
   "id": "active-gothic",
   "metadata": {},
   "source": [
    "#### **Analisando a quantidade de instalação dos apps menos populares (menos instalados)**"
   ]
  },
  {
   "cell_type": "code",
   "execution_count": null,
   "id": "chief-israeli",
   "metadata": {},
   "outputs": [],
   "source": []
  },
  {
   "cell_type": "code",
   "execution_count": null,
   "id": "enormous-point",
   "metadata": {},
   "outputs": [],
   "source": []
  },
  {
   "cell_type": "code",
   "execution_count": null,
   "id": "standard-egyptian",
   "metadata": {},
   "outputs": [],
   "source": []
  },
  {
   "cell_type": "code",
   "execution_count": null,
   "id": "fresh-catalog",
   "metadata": {},
   "outputs": [],
   "source": []
  },
  {
   "cell_type": "markdown",
   "id": "civil-batch",
   "metadata": {},
   "source": [
    "O **desvio padrão** das instalações ainda é consideravelmente alto, mas bem menor do que para os _apps mais instalados_. <br/>\n",
    "A diferença entre a **média** e a **mediana** das instalações é _menor_ do que para os _apps mais instalados_ também. <br/>\n",
    "\n",
    "Apenas analisando estas estatísticas descritivas, percebemos que os números de instalação destes apps são bem distribuídas, mas em um intervalo bem menor do que para _apps mais instalados_."
   ]
  },
  {
   "cell_type": "code",
   "execution_count": null,
   "id": "superior-register",
   "metadata": {},
   "outputs": [],
   "source": []
  },
  {
   "cell_type": "markdown",
   "id": "scheduled-property",
   "metadata": {},
   "source": [
    "Dos apps menos populares:\n",
    "- **25% (Q1)** possuem apps com número de instalações **<= 5000** (veja a tabela de describe)\n",
    "- **50% (Q2 - mediana)** possuem apps com número de instalações **<= 50000** (veja a tabela de describe)\n",
    "- **75% (Q3)** possuem apps com número de instalações **<= 500000** (veja a tabela de describe)\n",
    "- **25%** possuem apps com número de instalações **> 500000 e <= 1M**\n",
    "\n",
    "- **25%** possuem apps com número de instalações espalhados no intervalo de **[Q1, Q2] ==> [5000, 50000]**\n",
    "- **25%** possuem apps com número de instalações espalhados no intervalo de **[Q2, Q3] ==> [50000, 500000]**\n",
    "  + **maior variância (dispersão)** dos dados do que o caso anterior"
   ]
  },
  {
   "cell_type": "code",
   "execution_count": null,
   "id": "corrected-window",
   "metadata": {},
   "outputs": [],
   "source": []
  },
  {
   "cell_type": "markdown",
   "id": "frank-situation",
   "metadata": {},
   "source": [
    "Dos **25% de apps mais instalados**, a maioria deles possuem número de instalações perto de **1M**."
   ]
  },
  {
   "cell_type": "markdown",
   "id": "advised-security",
   "metadata": {},
   "source": [
    "### 2.7 Criando grupos para a quantidade de instalações \n",
    "Vamos agrupar os aplicativos de acordo com seus **números de instalações**. <br/>\n",
    "Este processo é conhecido como **segmentação**: criaremos intervalos de valores (bins) para representar cada grupo. <br/>\n",
    "Em outras palavras, segmentaremos o intervalo original, de modo que cada grupo terá um segmento (sub-intervalo).\n",
    "\n",
    "Vamos adotar as seguintes categorias/grupos para o **número de instalações**:\n",
    "- **Muito Baixo**: [0, 1k] instalações\n",
    "- **Baixo**: (1k, 10k] instalações\n",
    "- **Médio**: (10k, 100k] installações \n",
    "- **Alto**: (100k, 1M]\n",
    "- **Muito Alto**: (1M, 100M]\n",
    "- **Extremamente Alto**: (100M,)\n",
    "\n",
    "PS: esta é apenas uma sugestão de segmentação. Outras opções poderiam ser levadas em conta."
   ]
  },
  {
   "cell_type": "markdown",
   "id": "roman-burlington",
   "metadata": {},
   "source": [
    "Para criar estas categorias (segmentos, bins) a partir de intervalos numéricos, podemos utilizar o método `pd.cut()` do pandas: # https://pandas.pydata.org/docs/reference/api/pandas.cut.html"
   ]
  },
  {
   "cell_type": "code",
   "execution_count": null,
   "id": "viral-nickname",
   "metadata": {},
   "outputs": [],
   "source": []
  },
  {
   "cell_type": "code",
   "execution_count": null,
   "id": "fallen-thesaurus",
   "metadata": {},
   "outputs": [],
   "source": []
  },
  {
   "cell_type": "code",
   "execution_count": null,
   "id": "featured-cholesterol",
   "metadata": {},
   "outputs": [],
   "source": []
  },
  {
   "cell_type": "code",
   "execution_count": null,
   "id": "thorough-tiger",
   "metadata": {},
   "outputs": [],
   "source": []
  },
  {
   "cell_type": "code",
   "execution_count": null,
   "id": "concerned-mexican",
   "metadata": {},
   "outputs": [],
   "source": []
  },
  {
   "cell_type": "markdown",
   "id": "particular-sleep",
   "metadata": {},
   "source": [
    "Após a segmentação/agrupamento, conseguimos notar que os dois maiores grupos possuem um número **alto** ou **muito alto** de instalações, enquanto apenas um pequeno número de aplicativos possui um valor **extremamente alto** de instalações. <br/>\n",
    "Mais quais são esses números?"
   ]
  },
  {
   "cell_type": "code",
   "execution_count": null,
   "id": "loose-pacific",
   "metadata": {},
   "outputs": [],
   "source": []
  },
  {
   "cell_type": "markdown",
   "id": "urban-burner",
   "metadata": {},
   "source": [
    "#### Pie plot"
   ]
  },
  {
   "cell_type": "code",
   "execution_count": null,
   "id": "seventh-match",
   "metadata": {},
   "outputs": [],
   "source": []
  },
  {
   "cell_type": "code",
   "execution_count": null,
   "id": "foster-mounting",
   "metadata": {},
   "outputs": [],
   "source": []
  },
  {
   "cell_type": "markdown",
   "id": "collectible-universal",
   "metadata": {},
   "source": [
    "O uso do gráfico de pizza é um pouco _controverso_, uma vez que as **diferenças entre áreas** não são tão perceptíveis do que as **diferenças entre alturas** em um gráfico de barras. <br/>\n",
    "P. ex., por este gráfico, como saber qual área é maior: _Alto_ ou _Muito Alto_??? _Médio_ ou _Baixo_? <br/>\n",
    "Desta maneira, no geral o **gráfico de barras** é preferível.\n",
    "\n",
    "Mas, podemos tentar melhorar o gráfico de pizza adicionando os números de registros de cada fatia:"
   ]
  },
  {
   "cell_type": "code",
   "execution_count": null,
   "id": "settled-fellowship",
   "metadata": {},
   "outputs": [],
   "source": []
  },
  {
   "cell_type": "markdown",
   "id": "modular-fifth",
   "metadata": {},
   "source": [
    "### 2.8 Qual é a proporção de apps Free e Paid?"
   ]
  },
  {
   "cell_type": "code",
   "execution_count": null,
   "id": "compressed-casting",
   "metadata": {},
   "outputs": [],
   "source": []
  },
  {
   "cell_type": "code",
   "execution_count": null,
   "id": "immediate-secondary",
   "metadata": {},
   "outputs": [],
   "source": []
  },
  {
   "cell_type": "code",
   "execution_count": null,
   "id": "prostate-conversion",
   "metadata": {},
   "outputs": [],
   "source": []
  },
  {
   "cell_type": "code",
   "execution_count": null,
   "id": "communist-seminar",
   "metadata": {},
   "outputs": [],
   "source": []
  },
  {
   "cell_type": "markdown",
   "id": "falling-adult",
   "metadata": {},
   "source": [
    "### 2.9 Qual é avaliação média de cada tipo de aplicativo?\n",
    "Variável numérica x Variável Categórica."
   ]
  },
  {
   "cell_type": "code",
   "execution_count": null,
   "id": "burning-heath",
   "metadata": {},
   "outputs": [],
   "source": []
  },
  {
   "cell_type": "code",
   "execution_count": null,
   "id": "irish-tucson",
   "metadata": {},
   "outputs": [],
   "source": []
  },
  {
   "cell_type": "code",
   "execution_count": null,
   "id": "bearing-infrastructure",
   "metadata": {},
   "outputs": [],
   "source": []
  },
  {
   "cell_type": "code",
   "execution_count": null,
   "id": "atlantic-preview",
   "metadata": {},
   "outputs": [],
   "source": []
  },
  {
   "cell_type": "markdown",
   "id": "talented-american",
   "metadata": {},
   "source": [
    "#### VISUALIZANDO A DISTRIBUIÇÃO DE NOTAS POR APLICATIVO"
   ]
  },
  {
   "cell_type": "code",
   "execution_count": null,
   "id": "outer-simulation",
   "metadata": {},
   "outputs": [],
   "source": []
  },
  {
   "cell_type": "code",
   "execution_count": null,
   "id": "informational-amino",
   "metadata": {},
   "outputs": [],
   "source": []
  },
  {
   "cell_type": "code",
   "execution_count": null,
   "id": "grateful-litigation",
   "metadata": {},
   "outputs": [],
   "source": []
  },
  {
   "cell_type": "markdown",
   "id": "incredible-wayne",
   "metadata": {},
   "source": [
    "##### RIDGE LINE"
   ]
  },
  {
   "cell_type": "code",
   "execution_count": null,
   "id": "educational-aquarium",
   "metadata": {},
   "outputs": [],
   "source": []
  },
  {
   "cell_type": "markdown",
   "id": "graphic-watts",
   "metadata": {},
   "source": [
    "Por mais que a **proporção** de apps gratuitos e pagos sejam bem diferentes, ao analisar as estatísticas descritivas e os plots, conseguimos afirmar que a _distribuição de avaliações_ de cada tipo é similar, sendo os aplicativos pagos ligeiramente melhor avaliados do que os apps gratuitos."
   ]
  },
  {
   "cell_type": "markdown",
   "id": "neither-income",
   "metadata": {},
   "source": [
    "### 2.10 Qual é distribuição de avaliações de cada tipo de aplicativo de acordo com a quantidade de instalações?\n",
    "Comparação de 3 variáveis: uma numérica e duas categóricas."
   ]
  },
  {
   "cell_type": "code",
   "execution_count": null,
   "id": "divine-roller",
   "metadata": {},
   "outputs": [],
   "source": []
  },
  {
   "cell_type": "code",
   "execution_count": null,
   "id": "filled-hundred",
   "metadata": {},
   "outputs": [],
   "source": []
  },
  {
   "cell_type": "markdown",
   "id": "detected-upgrade",
   "metadata": {},
   "source": [
    "Alguns insights/conlusões:\n",
    "- No geral, a grande maioria dos apps gratuitos e pagos (~75%) possui avaliações próximas de 3.75 para cima, independente do número de instalações.\n",
    "- Não temos **apps pagos** que foram **extremamente baixados** (> 100M)\n",
    "- Não temos a escala de preços, mas faz sentido pensar que quanto maior o preço do app, menor o número de instalações (analisaremos essa hipótese depois)\n",
    "- Apps gratuitos com número de instalação 'Muito Alta' e 'Extremamente Alta' possuem menor variância entre as avaliações, ou seja, a percepção dos usuários é parecida em cada categoria.\n",
    "- Apps pagos com número de instalação 'Alta' e 'Muito Alta' possuem menor variância entre as avaliações, ou seja, a percepção dos usuários é parecida em cada categoria.\n",
    "- Apps com número _'Muito Baixo' de instalações ([0, 1k]) possuem opiniões mais diversas"
   ]
  },
  {
   "cell_type": "markdown",
   "id": "gentle-great",
   "metadata": {},
   "source": [
    "### 2.11 Qual é avaliação média de cada categoria para cada tipo de aplicativo?\n",
    "Comparação de 3 variáveis: uma numérica e duas categóricas."
   ]
  },
  {
   "cell_type": "code",
   "execution_count": null,
   "id": "helpful-helen",
   "metadata": {},
   "outputs": [],
   "source": []
  },
  {
   "cell_type": "code",
   "execution_count": null,
   "id": "willing-there",
   "metadata": {},
   "outputs": [],
   "source": []
  },
  {
   "cell_type": "markdown",
   "id": "resident-labor",
   "metadata": {},
   "source": [
    "Analisando este gráfico, podemos identificar algumas categorias cujas as *avaliações médias* **são bem discrepantes** entre os tipos de apps:\n",
    "P. ex: 'Parenting'.\n",
    "\n",
    "Podemos querer analisar esta categoria específica para então tentar entender ou buscar insights das causas destas discrepâncias."
   ]
  },
  {
   "cell_type": "code",
   "execution_count": null,
   "id": "through-syntax",
   "metadata": {},
   "outputs": [],
   "source": []
  },
  {
   "cell_type": "code",
   "execution_count": null,
   "id": "static-payday",
   "metadata": {},
   "outputs": [],
   "source": []
  },
  {
   "cell_type": "code",
   "execution_count": null,
   "id": "homeless-scholarship",
   "metadata": {},
   "outputs": [],
   "source": []
  },
  {
   "cell_type": "code",
   "execution_count": null,
   "id": "rising-navigator",
   "metadata": {},
   "outputs": [],
   "source": []
  },
  {
   "cell_type": "code",
   "execution_count": null,
   "id": "coastal-favor",
   "metadata": {},
   "outputs": [],
   "source": []
  },
  {
   "cell_type": "markdown",
   "id": "conscious-triple",
   "metadata": {},
   "source": [
    "Note que a quantidade de apps **pagos** da category 'Parenting' (2 apps - 4%) é _muito menor_ do que de apps **gratuitos** (96%). Além do problema do desbalanceamento, apenas 2 observações é muito pouco para conseguirmos extrair informações. <br/>\n",
    "\n",
    "Dado essas observações, **TOME CUIDADO**, pois podemos tirar conclusões precipitadas em situações como essa."
   ]
  },
  {
   "cell_type": "markdown",
   "id": "spanish-brush",
   "metadata": {},
   "source": [
    "#### Population Pyramid\n",
    "A Population Pyramid is a pair of back-to-back Histograms (for each sex) that displays the distribution of a population in all age groups and in both sexes. The X-axis is used to plot population numbers and the Y-axis lists all age groups"
   ]
  },
  {
   "cell_type": "code",
   "execution_count": null,
   "id": "sized-depth",
   "metadata": {},
   "outputs": [],
   "source": []
  },
  {
   "cell_type": "markdown",
   "id": "bibliographic-sympathy",
   "metadata": {},
   "source": [
    "_Não levando em consideração o tamanho de cada grupo neste momento_, podemos ver que a média das avaliações dos apps **gratuitos** é relativamente similar em todas as categorias. <br/>\n",
    "Já para os aplicativos pagos, a dispersão entre as avaliações médias das categorias é maior."
   ]
  },
  {
   "cell_type": "markdown",
   "id": "empirical-express",
   "metadata": {},
   "source": [
    "### 2.12 Existe correlação entre os preços dos aplicativos e suas avaliações?\n",
    "Será que quanto mais caro o app, melhor ou pior avaliado ele é?"
   ]
  },
  {
   "cell_type": "code",
   "execution_count": null,
   "id": "understood-church",
   "metadata": {},
   "outputs": [],
   "source": []
  },
  {
   "cell_type": "code",
   "execution_count": null,
   "id": "metallic-spotlight",
   "metadata": {},
   "outputs": [],
   "source": []
  },
  {
   "cell_type": "code",
   "execution_count": null,
   "id": "supreme-toronto",
   "metadata": {},
   "outputs": [],
   "source": []
  },
  {
   "cell_type": "code",
   "execution_count": null,
   "id": "unknown-coast",
   "metadata": {},
   "outputs": [],
   "source": []
  },
  {
   "cell_type": "code",
   "execution_count": null,
   "id": "forbidden-celebrity",
   "metadata": {},
   "outputs": [],
   "source": []
  },
  {
   "cell_type": "code",
   "execution_count": null,
   "id": "crazy-merit",
   "metadata": {},
   "outputs": [],
   "source": []
  },
  {
   "cell_type": "code",
   "execution_count": null,
   "id": "young-elevation",
   "metadata": {},
   "outputs": [],
   "source": []
  },
  {
   "cell_type": "code",
   "execution_count": null,
   "id": "renewable-founder",
   "metadata": {},
   "outputs": [],
   "source": []
  },
  {
   "cell_type": "markdown",
   "id": "coral-laundry",
   "metadata": {},
   "source": [
    "<br/>\n",
    "\n",
    "Após todas estas possíveis maneiras de analisar o mesmo fenômeno, concluímos que **não há correlação** entre o preço dos apps e suas avaliações."
   ]
  },
  {
   "cell_type": "markdown",
   "id": "eligible-panama",
   "metadata": {},
   "source": [
    "#### **CORRELAÇÃO DO PREÇOS COM AS DEMAIS VARIÁVEIS NÚMERICAS PARA OS APPS PAGOS**"
   ]
  },
  {
   "cell_type": "code",
   "execution_count": null,
   "id": "pleased-electronics",
   "metadata": {},
   "outputs": [],
   "source": []
  },
  {
   "cell_type": "markdown",
   "id": "willing-cartoon",
   "metadata": {},
   "source": [
    "Analisando os **coeficientes de correlação**, vemos que **não há nenhuma correlação forte** entre o preço e outra variável numérica.<br/>\n",
    "Isso é interessante, pois tínhamos a impressão de que _quanto mais caro o app_ **menor** o _número de instalações_. Vamos analisar esse cenário com mais cuidado na próxima pergunta."
   ]
  },
  {
   "cell_type": "code",
   "execution_count": null,
   "id": "dedicated-france",
   "metadata": {},
   "outputs": [],
   "source": []
  },
  {
   "cell_type": "markdown",
   "id": "divided-magnitude",
   "metadata": {},
   "source": [
    "Por um momento, ignore os os plots de outras variáveis que não incluem o preço.\n",
    "\n",
    "Olhando para os scatterplots com Preço (última coluna), confirmamos, visualmente, que **não há correlações fortes** entre o **preço** e as demais variáveis númericas. <br/>\n",
    "O que notamos é que _parece_ haver uma _correlação (não necessariamente causalidade)_ entre as **avaliações** dos _apps pagos_ com seus **tamanhos**. <br/>\n",
    "Vamos investigar esta hipótese."
   ]
  },
  {
   "cell_type": "code",
   "execution_count": null,
   "id": "suspended-strengthening",
   "metadata": {},
   "outputs": [],
   "source": []
  },
  {
   "cell_type": "markdown",
   "id": "activated-marathon",
   "metadata": {},
   "source": [
    "Ao analisar, em uma escala visual maior, o scatterplot entre as variáveis 'Rating' e 'Size', vemos que não há correlação entre as variáveis. <br/>\n",
    "Parece que há uma concentração muito grande de observação na região com Rating entre [4, 5] e Size [0, 0.2e8]. <br/>\n",
    "Vamos checar isso plotando um **hexagonal binning**."
   ]
  },
  {
   "cell_type": "code",
   "execution_count": null,
   "id": "cutting-institution",
   "metadata": {},
   "outputs": [],
   "source": []
  },
  {
   "cell_type": "markdown",
   "id": "marine-termination",
   "metadata": {},
   "source": [
    "De fato, há uma quantidade muito grande de observações concentradas na região com Rating [4, 4.7] e Size [0, 0.1]. <br/>\n",
    "Isso mostra que, às vezes, um dado plot, principalmente em escalas pequenas, podem nos enganar visualmente. <br/>\n",
    "\n",
    "P. ex., ao analisar o scatterplot destas duas variáveis, anteriormente obtido pelo `.pairplot`, tínhamos a impressão que os pontos (observações) estavam bem espalhados. Não conseguimos notas essa concentração de observações em uma mesma região, uma vez que os pontos do scatterplot estavam superpostos. <br/>\n",
    "Portanto, **cuidado** durante sua análise exploratória."
   ]
  },
  {
   "cell_type": "code",
   "execution_count": null,
   "id": "eleven-interest",
   "metadata": {},
   "outputs": [],
   "source": []
  },
  {
   "cell_type": "markdown",
   "id": "monthly-caution",
   "metadata": {},
   "source": [
    "Portanto, ao analisarmos as duas variáveis com mais detalhes e cuidado, percebemos que nossa percepção inicial estava errada."
   ]
  },
  {
   "cell_type": "markdown",
   "id": "danish-wagon",
   "metadata": {},
   "source": [
    "### 2.13 O número de instalações está correlacionado com o preço dos apps?\n",
    "Durante a exploração da pergunta 2.10, surgiu a hipótese que _'quanto mais caro for o apps, menor será seu número de instalações/downloads'_. <br/>\n",
    "Vamos então investigar essa hipótese a fundo."
   ]
  },
  {
   "cell_type": "code",
   "execution_count": null,
   "id": "included-raising",
   "metadata": {},
   "outputs": [],
   "source": []
  },
  {
   "cell_type": "markdown",
   "id": "ecological-typing",
   "metadata": {},
   "source": [
    "Pelo coeficiente de correlação, **NÃO** há correlação entre essas duas variáveis."
   ]
  },
  {
   "cell_type": "code",
   "execution_count": null,
   "id": "educated-reader",
   "metadata": {},
   "outputs": [],
   "source": []
  },
  {
   "cell_type": "markdown",
   "id": "nutritional-fiber",
   "metadata": {},
   "source": [
    "Vemos que há alguns **outliers** que dificultam a visualização. Vamos removê-los \"no olho\"."
   ]
  },
  {
   "cell_type": "code",
   "execution_count": null,
   "id": "sporting-tyler",
   "metadata": {},
   "outputs": [],
   "source": []
  },
  {
   "cell_type": "code",
   "execution_count": null,
   "id": "gentle-texas",
   "metadata": {},
   "outputs": [],
   "source": []
  },
  {
   "cell_type": "markdown",
   "id": "secret-appeal",
   "metadata": {},
   "source": [
    "Realmente, não há correlação entre o número de instalações e os preços dos apps, pois há apps caros ($ 400.0) com número médio de instalações: (10k, 100k]. Vejamos quem são eles (o que comem, onde moram, ...) =D"
   ]
  },
  {
   "cell_type": "code",
   "execution_count": null,
   "id": "interim-universal",
   "metadata": {},
   "outputs": [],
   "source": []
  },
  {
   "cell_type": "markdown",
   "id": "furnished-taylor",
   "metadata": {},
   "source": [
    "Os dois primeiros apps custam +- $ 400.0 e foram muito baixados. Após uma pesquisa simples no google: https://www.techtudo.com.br/artigos/noticia/2012/03/aplicativos-de-celular-que-servem-apenas-para-mostrar-o-quanto-voce-e-rico.html\n",
    "\n",
    "Este é um ponto importante: Nossa **análise exploratória** visa explorar padrões/comportamentos nos dados. A causalidade de tais não estarão mostradas, necessariamente, nessa exploração (números, tabelas, gráficos). É preciso então, em um segundo momento, visar entender tais causalidades."
   ]
  },
  {
   "cell_type": "markdown",
   "id": "heard-officer",
   "metadata": {},
   "source": [
    "#### **Analisando apenas apps com preço <= $100**"
   ]
  },
  {
   "cell_type": "code",
   "execution_count": null,
   "id": "legendary-money",
   "metadata": {},
   "outputs": [],
   "source": []
  },
  {
   "cell_type": "code",
   "execution_count": null,
   "id": "rocky-payday",
   "metadata": {},
   "outputs": [],
   "source": []
  },
  {
   "cell_type": "code",
   "execution_count": null,
   "id": "particular-grill",
   "metadata": {},
   "outputs": [],
   "source": []
  },
  {
   "cell_type": "markdown",
   "id": "coral-member",
   "metadata": {},
   "source": [
    "Bem, mesmo removendo \"outliers\" e analisando apenas uma faixa de preço, **não há correlação** entre o **preço dos apps** e o **número de ínstalações** (ao menos para este problema e dataset)."
   ]
  },
  {
   "cell_type": "markdown",
   "id": "theoretical-gardening",
   "metadata": {},
   "source": [
    "### 2.14 Qual a correlação entre as variáveis numéricas?\n",
    "Vamos agora fazer uma busca geral, correlacionando todas as variáveis numéricas de nosso dataset. Nosso intuito, é tentar encontrar algum correlação entre variáveis."
   ]
  },
  {
   "cell_type": "code",
   "execution_count": null,
   "id": "enabling-playlist",
   "metadata": {},
   "outputs": [],
   "source": []
  },
  {
   "cell_type": "markdown",
   "id": "quiet-light",
   "metadata": {},
   "source": [
    "Apenas analisando os **coeficientes de correlação**, vemos que as únicas variáveis numéricas que apresentam alguma correlação são **Installs** (número de instalações) e **Reviews** (número de revisões), o que é meio óbvio, pensando bem =D"
   ]
  },
  {
   "cell_type": "code",
   "execution_count": null,
   "id": "spectacular-chosen",
   "metadata": {},
   "outputs": [],
   "source": []
  },
  {
   "cell_type": "markdown",
   "id": "provincial-bulgarian",
   "metadata": {},
   "source": [
    "Visualmente, a correlação de tais variáveis é visível.\n",
    "\n",
    "Será que há algum padrão diferente ao diferenciarmos apps gratuitos dos pagos?"
   ]
  },
  {
   "cell_type": "code",
   "execution_count": null,
   "id": "unlimited-chick",
   "metadata": {},
   "outputs": [],
   "source": []
  },
  {
   "cell_type": "code",
   "execution_count": null,
   "id": "forward-satin",
   "metadata": {},
   "outputs": [],
   "source": []
  },
  {
   "cell_type": "code",
   "execution_count": null,
   "id": "sustainable-commitment",
   "metadata": {},
   "outputs": [],
   "source": []
  },
  {
   "cell_type": "markdown",
   "id": "outdoor-vanilla",
   "metadata": {},
   "source": [
    "Note que a quantidade de instalações e de reviews são bem baixas para os apps pagos."
   ]
  },
  {
   "cell_type": "markdown",
   "id": "convenient-business",
   "metadata": {},
   "source": [
    "### 2.15 Como estão distribuídas as categorias de acordo com a classificação de conteúdo?"
   ]
  },
  {
   "cell_type": "code",
   "execution_count": null,
   "id": "timely-paris",
   "metadata": {},
   "outputs": [],
   "source": []
  },
  {
   "cell_type": "code",
   "execution_count": null,
   "id": "dirty-performance",
   "metadata": {},
   "outputs": [],
   "source": []
  },
  {
   "cell_type": "code",
   "execution_count": null,
   "id": "blond-monaco",
   "metadata": {},
   "outputs": [],
   "source": []
  },
  {
   "cell_type": "code",
   "execution_count": null,
   "id": "executed-wrong",
   "metadata": {},
   "outputs": [],
   "source": []
  },
  {
   "cell_type": "markdown",
   "id": "radio-decline",
   "metadata": {},
   "source": [
    "## Continue a exploração\n",
    "**Sugestões**:\n",
    "- Analisar as categorias e gêneros\n",
    "- Analisar os gêneros e tipos de apps\n",
    "- Analisar as avaliações e números de instalações por gênero\n",
    "- Relacionar a indicação de conteúdo com o número de instalações\n",
    "- Organize todos os achados e conclusões deste notebook em uma apresentação que conte uma história"
   ]
  },
  {
   "cell_type": "code",
   "execution_count": null,
   "id": "shaped-buying",
   "metadata": {},
   "outputs": [],
   "source": []
  }
 ],
 "metadata": {
  "kernelspec": {
   "display_name": "Python 3",
   "language": "python",
   "name": "python3"
  },
  "language_info": {
   "codemirror_mode": {
    "name": "ipython",
    "version": 3
   },
   "file_extension": ".py",
   "mimetype": "text/x-python",
   "name": "python",
   "nbconvert_exporter": "python",
   "pygments_lexer": "ipython3",
   "version": "3.8.5"
  }
 },
 "nbformat": 4,
 "nbformat_minor": 5
}
