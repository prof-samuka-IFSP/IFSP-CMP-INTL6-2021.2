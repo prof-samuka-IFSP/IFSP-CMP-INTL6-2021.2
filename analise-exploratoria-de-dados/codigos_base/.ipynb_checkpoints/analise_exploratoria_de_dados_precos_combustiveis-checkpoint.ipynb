{
 "cells": [
  {
   "cell_type": "markdown",
   "id": "involved-picking",
   "metadata": {
    "slideshow": {
     "slide_type": "fragment"
    }
   },
   "source": [
    "**D1DAE: Análise Estatística para Ciência de Dados (2021.1)** <br/>\n",
    "IFSP Campinas\n",
    "\n",
    "Profs: Ricardo Sovat, Samuel Martins <br/><br/>\n",
    "\n",
    "<a rel=\"license\" href=\"http://creativecommons.org/licenses/by-nc-sa/4.0/\"><img alt=\"Creative Commons License\" style=\"border-width:0\" src=\"https://i.creativecommons.org/l/by-nc-sa/4.0/88x31.png\" /></a><br />This work is licensed under a <a rel=\"license\" href=\"http://creativecommons.org/licenses/by-nc-sa/4.0/\">Creative Commons Attribution-NonCommercial-ShareAlike 4.0 International License</a>."
   ]
  },
  {
   "cell_type": "markdown",
   "id": "desirable-router",
   "metadata": {},
   "source": [
    "### Pacotes usados neste Notebook"
   ]
  },
  {
   "cell_type": "code",
   "execution_count": 1,
   "id": "legendary-coordinator",
   "metadata": {},
   "outputs": [],
   "source": [
    "# pacotes usados neste notebook\n",
    "import pandas as pd\n",
    "import seaborn as sns\n",
    "import matplotlib.pyplot as plt\n",
    "import numpy as np"
   ]
  },
  {
   "cell_type": "markdown",
   "id": "wrapped-balloon",
   "metadata": {},
   "source": [
    "<h1>Análise Exploratória de Dados</h1><hr/>"
   ]
  },
  {
   "cell_type": "markdown",
   "id": "dedicated-trout",
   "metadata": {},
   "source": [
    "A **Análise Exploratória de Dados** refere-se ao processo de investigação de dados (de um problema) para a descoberta de _insights_, padrões, anomalias, testar hipóteses e checar suposições com a ajuda de técnicas e conceitos estatísticos e representações visuais/gráficas."
   ]
  },
  {
   "cell_type": "markdown",
   "id": "posted-diesel",
   "metadata": {},
   "source": [
    "<h2>1. Dataset</h2>\n",
    "<hr/>"
   ]
  },
  {
   "cell_type": "markdown",
   "id": "freelance-commons",
   "metadata": {},
   "source": [
    "**Dataset**: Gas Prices in Brazil: https://www.kaggle.com/matheusfreitag/gas-prices-in-brazil <br/>\n",
    "\n",
    "Este dataset contém os **registros dos preços médios semanais dos combustíveis do Brasil entre os anos de 2004 e 2019**. <br/>\n",
    "Cada *amostra (registro/linha)* consiste em um registro de preço aferido para um dado tipo de combustível em uma dada localidade do Brasil. <br/>\n",
    "Alguns dos principais *atributos* (colunas) do dataset são: 'ESTADO', 'PRODUTO', 'NÚMERO DE POSTOS PESQUISADOS', 'PREÇO MÉDIO REVENDA'."
   ]
  },
  {
   "cell_type": "markdown",
   "id": "sublime-distance",
   "metadata": {},
   "source": [
    "O dataset utilizado neste notebook já foi _pré-processado_ anteriormente. Para mais informações, cheque os vídeos mostrados do curso [\"Pandas Essencial\" no YouTube](https://www.youtube.com/playlist?list=PL3ZslI15yo2pfkf7EGNR14xTwe-wZ2bNX), onde realizamos tal preprocessamento."
   ]
  },
  {
   "cell_type": "markdown",
   "id": "worse-characteristic",
   "metadata": {},
   "source": [
    "### 1.1. Importando o Dataset"
   ]
  },
  {
   "cell_type": "code",
   "execution_count": null,
   "id": "demonstrated-writing",
   "metadata": {},
   "outputs": [],
   "source": []
  },
  {
   "cell_type": "code",
   "execution_count": null,
   "id": "human-guitar",
   "metadata": {},
   "outputs": [],
   "source": []
  },
  {
   "cell_type": "markdown",
   "id": "changing-salvation",
   "metadata": {},
   "source": [
    "### 1.2. Informações básicas do Dataset"
   ]
  },
  {
   "cell_type": "code",
   "execution_count": null,
   "id": "different-circuit",
   "metadata": {},
   "outputs": [],
   "source": []
  },
  {
   "cell_type": "markdown",
   "id": "infinite-joining",
   "metadata": {},
   "source": [
    "<br/>\n",
    "\n",
    "O dataset possui **103392** registros/observações/linhas e **20** atributos/variáveis/colunas.\n",
    "Não há nenhum valor null nas colunas (uma checagem mais rigorosa foi feita no curso [\"Pandas Essencial\"](https://www.youtube.com/playlist?list=PL3ZslI15yo2pfkf7EGNR14xTwe-wZ2bNX))."
   ]
  },
  {
   "cell_type": "markdown",
   "id": "lovely-complexity",
   "metadata": {},
   "source": [
    "<h2>2. Análise Exploratória de Dados</h2>\n",
    "<hr/>"
   ]
  },
  {
   "cell_type": "markdown",
   "id": "suspended-government",
   "metadata": {},
   "source": [
    "### 2.1 Como os preços da Gasolina Comum em São Paulo variaram em 2018?"
   ]
  },
  {
   "cell_type": "code",
   "execution_count": null,
   "id": "canadian-explanation",
   "metadata": {},
   "outputs": [],
   "source": []
  },
  {
   "cell_type": "markdown",
   "id": "running-poland",
   "metadata": {},
   "source": [
    "#### **Estatísticas Descritivas**"
   ]
  },
  {
   "cell_type": "code",
   "execution_count": null,
   "id": "indian-auckland",
   "metadata": {},
   "outputs": [],
   "source": []
  },
  {
   "cell_type": "markdown",
   "id": "false-wallpaper",
   "metadata": {},
   "source": [
    "#### **Tendência Central dos Preços**"
   ]
  },
  {
   "cell_type": "code",
   "execution_count": null,
   "id": "celtic-riverside",
   "metadata": {},
   "outputs": [],
   "source": []
  },
  {
   "cell_type": "markdown",
   "id": "preliminary-fetish",
   "metadata": {},
   "source": [
    "### **Variabilidade**"
   ]
  },
  {
   "cell_type": "markdown",
   "id": "atmospheric-acrobat",
   "metadata": {},
   "source": [
    "#### Histograma com número de bins padrão:"
   ]
  },
  {
   "cell_type": "code",
   "execution_count": null,
   "id": "chubby-programming",
   "metadata": {},
   "outputs": [],
   "source": []
  },
  {
   "cell_type": "markdown",
   "id": "dutch-nomination",
   "metadata": {},
   "source": [
    "#### Alterando o **número de bins** do Histograma."
   ]
  },
  {
   "cell_type": "code",
   "execution_count": null,
   "id": "terminal-stationery",
   "metadata": {},
   "outputs": [],
   "source": []
  },
  {
   "cell_type": "markdown",
   "id": "contained-hydrogen",
   "metadata": {},
   "source": [
    "#### Checando a variabilidade usando **BoxPlots**"
   ]
  },
  {
   "cell_type": "code",
   "execution_count": null,
   "id": "timely-offset",
   "metadata": {},
   "outputs": [],
   "source": []
  },
  {
   "cell_type": "markdown",
   "id": "imported-tobago",
   "metadata": {},
   "source": [
    "#### Checando a variabilidade usando **Violin Plot**"
   ]
  },
  {
   "cell_type": "code",
   "execution_count": null,
   "id": "posted-douglas",
   "metadata": {},
   "outputs": [],
   "source": []
  },
  {
   "cell_type": "markdown",
   "id": "cheap-concord",
   "metadata": {},
   "source": [
    "### 2.2 Como os preços da Gasolina Comum e do Etanol em São Paulo variaram em 2018?"
   ]
  },
  {
   "cell_type": "code",
   "execution_count": null,
   "id": "heated-trick",
   "metadata": {},
   "outputs": [],
   "source": []
  },
  {
   "cell_type": "markdown",
   "id": "cleared-rogers",
   "metadata": {},
   "source": [
    "#### Computando as estatísticas descritivas"
   ]
  },
  {
   "cell_type": "code",
   "execution_count": null,
   "id": "equal-broadcasting",
   "metadata": {},
   "outputs": [],
   "source": []
  },
  {
   "cell_type": "markdown",
   "id": "lasting-grocery",
   "metadata": {},
   "source": [
    "#### Gráfico de Barras"
   ]
  },
  {
   "cell_type": "code",
   "execution_count": null,
   "id": "australian-arbor",
   "metadata": {},
   "outputs": [],
   "source": []
  },
  {
   "cell_type": "markdown",
   "id": "fossil-qualification",
   "metadata": {},
   "source": [
    "#### Histogramas"
   ]
  },
  {
   "cell_type": "code",
   "execution_count": null,
   "id": "viral-athletics",
   "metadata": {},
   "outputs": [],
   "source": []
  },
  {
   "cell_type": "markdown",
   "id": "shared-ranking",
   "metadata": {},
   "source": [
    "#### BoxPlot"
   ]
  },
  {
   "cell_type": "code",
   "execution_count": null,
   "id": "unsigned-portal",
   "metadata": {},
   "outputs": [],
   "source": []
  },
  {
   "cell_type": "markdown",
   "id": "handy-genesis",
   "metadata": {},
   "source": [
    "#### Violin Plot"
   ]
  },
  {
   "cell_type": "code",
   "execution_count": null,
   "id": "shaped-agenda",
   "metadata": {},
   "outputs": [],
   "source": []
  },
  {
   "cell_type": "markdown",
   "id": "brilliant-azerbaijan",
   "metadata": {},
   "source": [
    "### 2.3 Como os preços da Gasolina Comum e Etanol variaram no estado de SP ao longo dos anos?"
   ]
  },
  {
   "cell_type": "code",
   "execution_count": null,
   "id": "advance-evans",
   "metadata": {},
   "outputs": [],
   "source": []
  },
  {
   "cell_type": "markdown",
   "id": "occasional-black",
   "metadata": {},
   "source": [
    "#### Lineplot"
   ]
  },
  {
   "cell_type": "code",
   "execution_count": null,
   "id": "honey-proceeding",
   "metadata": {},
   "outputs": [],
   "source": []
  },
  {
   "cell_type": "markdown",
   "id": "viral-fitting",
   "metadata": {},
   "source": [
    "#### Boxplots"
   ]
  },
  {
   "cell_type": "code",
   "execution_count": null,
   "id": "neural-habitat",
   "metadata": {},
   "outputs": [],
   "source": []
  },
  {
   "cell_type": "markdown",
   "id": "bronze-chicken",
   "metadata": {},
   "source": [
    "#### Violin Plot"
   ]
  },
  {
   "cell_type": "code",
   "execution_count": null,
   "id": "specialized-testament",
   "metadata": {},
   "outputs": [],
   "source": []
  },
  {
   "cell_type": "markdown",
   "id": "authorized-welsh",
   "metadata": {},
   "source": [
    "### 2.4 Há correlação entre os os preços da Gasolina Comum e do Etanol do estado de São Paulo de 2018?"
   ]
  },
  {
   "cell_type": "code",
   "execution_count": null,
   "id": "institutional-elite",
   "metadata": {},
   "outputs": [],
   "source": []
  },
  {
   "cell_type": "markdown",
   "id": "supreme-conservative",
   "metadata": {},
   "source": [
    "### 2.5 Como os preços da Gasolina Comum e Etanol variaram no estado de SP ao longo dos anos e meses?"
   ]
  },
  {
   "cell_type": "code",
   "execution_count": null,
   "id": "worldwide-official",
   "metadata": {},
   "outputs": [],
   "source": []
  },
  {
   "cell_type": "markdown",
   "id": "married-taste",
   "metadata": {},
   "source": [
    "#### Correlação entre os Preços da Gasolina e Etanol no Estado de SP"
   ]
  },
  {
   "cell_type": "code",
   "execution_count": null,
   "id": "rational-belize",
   "metadata": {},
   "outputs": [],
   "source": []
  },
  {
   "cell_type": "markdown",
   "id": "comparative-abuse",
   "metadata": {},
   "source": [
    "### 2.6 Preços dos Combustíveis por Região ao longo dos anos e meses?"
   ]
  },
  {
   "cell_type": "markdown",
   "id": "charitable-adjustment",
   "metadata": {},
   "source": [
    "#### UMA ALTERNATIVA"
   ]
  },
  {
   "cell_type": "code",
   "execution_count": null,
   "id": "grateful-insured",
   "metadata": {},
   "outputs": [],
   "source": []
  },
  {
   "cell_type": "markdown",
   "id": "wanted-litigation",
   "metadata": {},
   "source": [
    "No geral, a região **Norte** é a que apresenta os maiores preços de combustíveis do país."
   ]
  },
  {
   "cell_type": "markdown",
   "id": "smaller-gauge",
   "metadata": {},
   "source": [
    "#### OUTRA ALTERNATIVA"
   ]
  },
  {
   "cell_type": "code",
   "execution_count": null,
   "id": "fiscal-german",
   "metadata": {},
   "outputs": [],
   "source": []
  },
  {
   "cell_type": "markdown",
   "id": "basic-likelihood",
   "metadata": {},
   "source": [
    "Como o preço do GLP é muito discrepante do preço dos outros combustíveis, nossa análise fica totalmente prejudicada. <br/>\n",
    "Podemos ignorar o GLP neste momento e comparar os preços entre os outros combustíveis."
   ]
  },
  {
   "cell_type": "code",
   "execution_count": null,
   "id": "signed-calibration",
   "metadata": {},
   "outputs": [],
   "source": []
  },
  {
   "cell_type": "markdown",
   "id": "saved-crown",
   "metadata": {},
   "source": [
    "### 2.7 Comportamento dos Preços dos Combustíveis dos Estados do Norte?"
   ]
  },
  {
   "cell_type": "code",
   "execution_count": null,
   "id": "painful-reporter",
   "metadata": {},
   "outputs": [],
   "source": []
  },
  {
   "cell_type": "code",
   "execution_count": null,
   "id": "religious-gender",
   "metadata": {},
   "outputs": [],
   "source": []
  },
  {
   "cell_type": "code",
   "execution_count": null,
   "id": "political-indianapolis",
   "metadata": {},
   "outputs": [],
   "source": []
  },
  {
   "cell_type": "markdown",
   "id": "sustained-skating",
   "metadata": {},
   "source": [
    "Na média, o estado do **ACRE** apresentou **os preços mais caros** para a _Gasolina Comum_ e _Etanol_ considerando os anos de 2004 a 2018"
   ]
  },
  {
   "cell_type": "markdown",
   "id": "dutch-strengthening",
   "metadata": {},
   "source": [
    "##### **ANALISANDO OS PREÇOS ANO A ANO**"
   ]
  },
  {
   "cell_type": "code",
   "execution_count": null,
   "id": "collectible-oxide",
   "metadata": {},
   "outputs": [],
   "source": []
  },
  {
   "cell_type": "markdown",
   "id": "clinical-ultimate",
   "metadata": {},
   "source": [
    "### 2.8 Há correlação entre os Preços de Distribuição e o Preço de Revenda dos combustíveis?"
   ]
  },
  {
   "cell_type": "code",
   "execution_count": null,
   "id": "complicated-click",
   "metadata": {},
   "outputs": [],
   "source": []
  },
  {
   "cell_type": "code",
   "execution_count": null,
   "id": "abroad-hazard",
   "metadata": {},
   "outputs": [],
   "source": []
  }
 ],
 "metadata": {
  "kernelspec": {
   "display_name": "Python 3",
   "language": "python",
   "name": "python3"
  },
  "language_info": {
   "codemirror_mode": {
    "name": "ipython",
    "version": 3
   },
   "file_extension": ".py",
   "mimetype": "text/x-python",
   "name": "python",
   "nbconvert_exporter": "python",
   "pygments_lexer": "ipython3",
   "version": "3.8.5"
  }
 },
 "nbformat": 4,
 "nbformat_minor": 5
}
